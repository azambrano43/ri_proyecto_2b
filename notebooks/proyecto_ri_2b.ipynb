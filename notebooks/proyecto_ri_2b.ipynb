{
 "cells": [
  {
   "cell_type": "code",
   "execution_count": 38,
   "metadata": {},
   "outputs": [],
   "source": [
    "import chromadb\n",
    "from sentence_transformers import SentenceTransformer\n",
    "import numpy as np\n",
    "import pandas as pd\n",
    "import os\n",
    "import ast\n",
    "from nltk.stem import PorterStemmer\n",
    "from nltk.corpus import stopwords\n",
    "import nltk"
   ]
  },
  {
   "cell_type": "markdown",
   "metadata": {},
   "source": [
    "### Análisis exploratorio"
   ]
  },
  {
   "cell_type": "code",
   "execution_count": 3,
   "metadata": {},
   "outputs": [],
   "source": [
    "dn = pd.read_csv('../data/processed/Daniel_Noboa_preprocesado.csv')"
   ]
  },
  {
   "cell_type": "code",
   "execution_count": 4,
   "metadata": {},
   "outputs": [
    {
     "data": {
      "text/html": [
       "<div>\n",
       "<style scoped>\n",
       "    .dataframe tbody tr th:only-of-type {\n",
       "        vertical-align: middle;\n",
       "    }\n",
       "\n",
       "    .dataframe tbody tr th {\n",
       "        vertical-align: top;\n",
       "    }\n",
       "\n",
       "    .dataframe thead th {\n",
       "        text-align: right;\n",
       "    }\n",
       "</style>\n",
       "<table border=\"1\" class=\"dataframe\">\n",
       "  <thead>\n",
       "    <tr style=\"text-align: right;\">\n",
       "      <th></th>\n",
       "      <th>Id</th>\n",
       "      <th>Candidato</th>\n",
       "      <th>Temas tratados</th>\n",
       "      <th>Descripción</th>\n",
       "      <th>Entrevista</th>\n",
       "    </tr>\n",
       "  </thead>\n",
       "  <tbody>\n",
       "    <tr>\n",
       "      <th>0</th>\n",
       "      <td>DNE001</td>\n",
       "      <td>Daniel Noboa</td>\n",
       "      <td>formacion trayectori segur ciudadan cooper int...</td>\n",
       "      <td>entrev president daniel nobo abord divers tem ...</td>\n",
       "      <td>hol bienven dialog electoral ug oliv merchan v...</td>\n",
       "    </tr>\n",
       "    <tr>\n",
       "      <th>1</th>\n",
       "      <td>DNE002</td>\n",
       "      <td>Daniel Noboa</td>\n",
       "      <td>segur justici desaparicion cuatr joven guayaqu...</td>\n",
       "      <td>entrev president daniel nobo radi democraci ab...</td>\n",
       "      <td>unid nacional pro paz segur ecuador revist opi...</td>\n",
       "    </tr>\n",
       "    <tr>\n",
       "      <th>2</th>\n",
       "      <td>DNE003</td>\n",
       "      <td>Daniel Noboa</td>\n",
       "      <td>gobiern polit democraci desafi rol vot inform ...</td>\n",
       "      <td>conversatori abord tem clav democraci particip...</td>\n",
       "      <td>alo buen dias favor tom asient graci preci des...</td>\n",
       "    </tr>\n",
       "    <tr>\n",
       "      <th>3</th>\n",
       "      <td>DNP004</td>\n",
       "      <td>Daniel Noboa</td>\n",
       "      <td>reduccion pobrez desiguald acces universal sal...</td>\n",
       "      <td>document present plan integral desarroll ecuad...</td>\n",
       "      <td>egur desarroll bienest ecuatorian mejor sistem...</td>\n",
       "    </tr>\n",
       "    <tr>\n",
       "      <th>4</th>\n",
       "      <td>DNP005</td>\n",
       "      <td>Daniel Noboa</td>\n",
       "      <td>desarroll econom sosten transform product inno...</td>\n",
       "      <td>document present plan integral desarroll econo...</td>\n",
       "      <td>desarroll econom sosten mejor calid vid ecuato...</td>\n",
       "    </tr>\n",
       "    <tr>\n",
       "      <th>5</th>\n",
       "      <td>DNP006</td>\n",
       "      <td>Daniel Noboa</td>\n",
       "      <td>medi ambient energ conect conserv ambiental ad...</td>\n",
       "      <td>document present enfoqu integral desarroll sos...</td>\n",
       "      <td>ecuador conect prepar futur ciudad resilient e...</td>\n",
       "    </tr>\n",
       "    <tr>\n",
       "      <th>6</th>\n",
       "      <td>DNP007</td>\n",
       "      <td>Daniel Noboa</td>\n",
       "      <td>institucional public acces inform particip ciu...</td>\n",
       "      <td>document present plan transform ecuatorian cen...</td>\n",
       "      <td>nuev nuev ecuador eficient transparent partici...</td>\n",
       "    </tr>\n",
       "  </tbody>\n",
       "</table>\n",
       "</div>"
      ],
      "text/plain": [
       "       Id     Candidato                                     Temas tratados  \\\n",
       "0  DNE001  Daniel Noboa  formacion trayectori segur ciudadan cooper int...   \n",
       "1  DNE002  Daniel Noboa  segur justici desaparicion cuatr joven guayaqu...   \n",
       "2  DNE003  Daniel Noboa  gobiern polit democraci desafi rol vot inform ...   \n",
       "3  DNP004  Daniel Noboa  reduccion pobrez desiguald acces universal sal...   \n",
       "4  DNP005  Daniel Noboa  desarroll econom sosten transform product inno...   \n",
       "5  DNP006  Daniel Noboa  medi ambient energ conect conserv ambiental ad...   \n",
       "6  DNP007  Daniel Noboa  institucional public acces inform particip ciu...   \n",
       "\n",
       "                                         Descripción  \\\n",
       "0  entrev president daniel nobo abord divers tem ...   \n",
       "1  entrev president daniel nobo radi democraci ab...   \n",
       "2  conversatori abord tem clav democraci particip...   \n",
       "3  document present plan integral desarroll ecuad...   \n",
       "4  document present plan integral desarroll econo...   \n",
       "5  document present enfoqu integral desarroll sos...   \n",
       "6  document present plan transform ecuatorian cen...   \n",
       "\n",
       "                                          Entrevista  \n",
       "0  hol bienven dialog electoral ug oliv merchan v...  \n",
       "1  unid nacional pro paz segur ecuador revist opi...  \n",
       "2  alo buen dias favor tom asient graci preci des...  \n",
       "3  egur desarroll bienest ecuatorian mejor sistem...  \n",
       "4  desarroll econom sosten mejor calid vid ecuato...  \n",
       "5  ecuador conect prepar futur ciudad resilient e...  \n",
       "6  nuev nuev ecuador eficient transparent partici...  "
      ]
     },
     "execution_count": 4,
     "metadata": {},
     "output_type": "execute_result"
    }
   ],
   "source": [
    "dn"
   ]
  },
  {
   "cell_type": "markdown",
   "metadata": {},
   "source": [
    "### Unificación del corpus"
   ]
  },
  {
   "cell_type": "markdown",
   "metadata": {},
   "source": [
    "Tenemos dos carpetas que contienen el corpus:\n",
    "\n",
    "1. raw: Contiene los archivos sin procesar del corpus\n",
    "2. processed: Contiene los archivos preprocesados del corpus\n",
    "\n",
    "Debido a que se ha utilizado lematización al preprocesar el texto, este tiene la característica de recortar palabras, por lo que al recuperar los documentos que queremos no podemos mostrar eso al usuario, es por esto que se hará lo siguiente:\n",
    "\n",
    "1. Concatenar todos los archivos de cada carpeta respectivamente, el resultado será dos archivos (raw_corpus.csv y processed_corpus.csv)\n",
    "2. Se realizará un join entre estos dos archivos utilizando la columna 'ID' para esta unión."
   ]
  },
  {
   "cell_type": "code",
   "execution_count": 6,
   "metadata": {},
   "outputs": [],
   "source": [
    "base_dir = r'../data/raw'\n",
    "processed_files = os.scandir(base_dir)\n",
    "unified_raw_df = pd.DataFrame()\n",
    "\n",
    "for file in processed_files:\n",
    "    df = pd.read_csv(rf'{base_dir}/{file.name}')\n",
    "    unified_raw_df = pd.concat([df, unified_raw_df])\n",
    "    \n",
    "del df"
   ]
  },
  {
   "cell_type": "code",
   "execution_count": 7,
   "metadata": {},
   "outputs": [],
   "source": [
    "base_dir = r'../data/processed'\n",
    "processed_files = os.scandir(base_dir)\n",
    "unified_processed_df = pd.DataFrame()\n",
    "\n",
    "for file in processed_files:\n",
    "    df = pd.read_csv(rf'{base_dir}/{file.name}')\n",
    "    unified_processed_df = pd.concat([df, unified_processed_df])"
   ]
  },
  {
   "cell_type": "code",
   "execution_count": null,
   "metadata": {},
   "outputs": [],
   "source": [
    "unified_raw_df['Id'] = unified_raw_df['Id'].astype(str)\n",
    "unified_processed_df['Id'] = unified_processed_df['Id'].astype(str)"
   ]
  },
  {
   "cell_type": "code",
   "execution_count": 17,
   "metadata": {},
   "outputs": [],
   "source": [
    "unified_global_df = pd.merge(unified_raw_df, unified_processed_df, on='Id', suffixes=('_raw', '_pre'))"
   ]
  },
  {
   "cell_type": "code",
   "execution_count": 22,
   "metadata": {},
   "outputs": [
    {
     "data": {
      "text/html": [
       "<div>\n",
       "<style scoped>\n",
       "    .dataframe tbody tr th:only-of-type {\n",
       "        vertical-align: middle;\n",
       "    }\n",
       "\n",
       "    .dataframe tbody tr th {\n",
       "        vertical-align: top;\n",
       "    }\n",
       "\n",
       "    .dataframe thead th {\n",
       "        text-align: right;\n",
       "    }\n",
       "</style>\n",
       "<table border=\"1\" class=\"dataframe\">\n",
       "  <thead>\n",
       "    <tr style=\"text-align: right;\">\n",
       "      <th></th>\n",
       "      <th>Id</th>\n",
       "      <th>Candidato_raw</th>\n",
       "      <th>Temas tratados_raw</th>\n",
       "      <th>Descripción_raw</th>\n",
       "      <th>Entrevista_raw</th>\n",
       "      <th>Entrevista_pre</th>\n",
       "    </tr>\n",
       "  </thead>\n",
       "  <tbody>\n",
       "    <tr>\n",
       "      <th>0</th>\n",
       "      <td>WGE001</td>\n",
       "      <td>Wilson Gomez</td>\n",
       "      <td>Conformación del binomio presidencial; Relació...</td>\n",
       "      <td>El documento es una entrevista en la que un ca...</td>\n",
       "      <td>Yo vengo trabajando para muchos presidentes he...</td>\n",
       "      <td>veng trabaj president oportun serv voluntari e...</td>\n",
       "    </tr>\n",
       "    <tr>\n",
       "      <th>1</th>\n",
       "      <td>WGE002</td>\n",
       "      <td>Wilson Gomez</td>\n",
       "      <td>Crisis del país; Propuestas de rescate y trans...</td>\n",
       "      <td>El documento expone la visión y propuestas del...</td>\n",
       "      <td>Buenos días nos encontramos con Wilson Gómez c...</td>\n",
       "      <td>buen dias encontr wilson gomez candidat presid...</td>\n",
       "    </tr>\n",
       "    <tr>\n",
       "      <th>2</th>\n",
       "      <td>WGE003</td>\n",
       "      <td>Wilson Gomez</td>\n",
       "      <td>La necesidad de un cambio en el modelo educati...</td>\n",
       "      <td>El documento es una entrevista con el candidat...</td>\n",
       "      <td>un gran abrazo para la inmensa audiencia de ra...</td>\n",
       "      <td>gran abraz inmens audienci radi moren ecuador ...</td>\n",
       "    </tr>\n",
       "    <tr>\n",
       "      <th>3</th>\n",
       "      <td>WGP004</td>\n",
       "      <td>Wilson Gomez</td>\n",
       "      <td>El rol de la agricultura, la pesca y la indust...</td>\n",
       "      <td>El documento analiza el sector agropecuario y ...</td>\n",
       "      <td>Parte 1: Diagnóstico de la Situación Actual La...</td>\n",
       "      <td>part diagnost situacion actual agricultur pesc...</td>\n",
       "    </tr>\n",
       "    <tr>\n",
       "      <th>4</th>\n",
       "      <td>WGP005</td>\n",
       "      <td>Wilson Gomez</td>\n",
       "      <td>Extracción de petróleo; Historia y auge de la ...</td>\n",
       "      <td>El documento analiza tres sectores clave en Ec...</td>\n",
       "      <td>Parte 1: Extracción de petróleo en Ecuador Dia...</td>\n",
       "      <td>part extraccion petrole ecuador diagnost situa...</td>\n",
       "    </tr>\n",
       "    <tr>\n",
       "      <th>5</th>\n",
       "      <td>WGP006</td>\n",
       "      <td>Wilson Gomez</td>\n",
       "      <td>Definición y módulos de FinTech; Criptomonedas...</td>\n",
       "      <td>El documento analiza el sector FinTech, su imp...</td>\n",
       "      <td>Parte 1: ¿Qué es FinTech y cuáles son sus módu...</td>\n",
       "      <td>part fintech cual modul principal termin finte...</td>\n",
       "    </tr>\n",
       "    <tr>\n",
       "      <th>6</th>\n",
       "      <td>WGP007</td>\n",
       "      <td>Wilson Gomez</td>\n",
       "      <td>Economía agraria; Industrialización y auge pet...</td>\n",
       "      <td>El texto describe la evolución económica de Ec...</td>\n",
       "      <td>EXTRACCIÓN DE ECONOMÍA &amp; PRODUCTIVIDAD Histori...</td>\n",
       "      <td>extraccion econom product histori econom ecuad...</td>\n",
       "    </tr>\n",
       "    <tr>\n",
       "      <th>7</th>\n",
       "      <td>WGP008</td>\n",
       "      <td>Wilson Gomez</td>\n",
       "      <td>Ecoturismo en Ecuador; Economía y Productivida...</td>\n",
       "      <td>El documento propone un plan de desarrollo par...</td>\n",
       "      <td>Estrategia para el Desarrollo del Ecoturismo e...</td>\n",
       "      <td>estrategi desarroll ecotur ecuador problem afe...</td>\n",
       "    </tr>\n",
       "    <tr>\n",
       "      <th>8</th>\n",
       "      <td>DNE001</td>\n",
       "      <td>Daniel Noboa</td>\n",
       "      <td>Formación y trayectoria, Seguridad ciudadana, ...</td>\n",
       "      <td>La entrevista con el presidente Daniel Noboa a...</td>\n",
       "      <td>Hola a todos Bienvenido a diálogo electoral ug...</td>\n",
       "      <td>hol bienven dialog electoral ug oliv merchan v...</td>\n",
       "    </tr>\n",
       "    <tr>\n",
       "      <th>9</th>\n",
       "      <td>DNE002</td>\n",
       "      <td>Daniel Noboa</td>\n",
       "      <td>Seguridad y Justicia; Desaparición de los cuat...</td>\n",
       "      <td>La entrevista con el presidente Daniel Noboa e...</td>\n",
       "      <td>la unidad nacional en pro de la paz y la segur...</td>\n",
       "      <td>unid nacional pro paz segur ecuador revist opi...</td>\n",
       "    </tr>\n",
       "    <tr>\n",
       "      <th>10</th>\n",
       "      <td>DNE003</td>\n",
       "      <td>Daniel Noboa</td>\n",
       "      <td>Gobierno y Política; La democracia y sus desaf...</td>\n",
       "      <td>El conversatorio abordó temas clave como democ...</td>\n",
       "      <td>Aló Buenos días con todos por favor tomen asie...</td>\n",
       "      <td>alo buen dias favor tom asient graci preci des...</td>\n",
       "    </tr>\n",
       "    <tr>\n",
       "      <th>11</th>\n",
       "      <td>DNP004</td>\n",
       "      <td>Daniel Noboa</td>\n",
       "      <td>Reducción de la pobreza y la desigualdad; Acce...</td>\n",
       "      <td>El documento presenta un plan integral para el...</td>\n",
       "      <td>eguridad, desarrollo y bienestar para todos lo...</td>\n",
       "      <td>egur desarroll bienest ecuatorian mejor sistem...</td>\n",
       "    </tr>\n",
       "    <tr>\n",
       "      <th>12</th>\n",
       "      <td>DNP005</td>\n",
       "      <td>Daniel Noboa</td>\n",
       "      <td>Desarrollo Económico Sostenible; Transformació...</td>\n",
       "      <td>El documento presenta un plan integral para el...</td>\n",
       "      <td>Desarrollo económico sostenible para mejorar l...</td>\n",
       "      <td>desarroll econom sosten mejor calid vid ecuato...</td>\n",
       "    </tr>\n",
       "    <tr>\n",
       "      <th>13</th>\n",
       "      <td>DNP006</td>\n",
       "      <td>Daniel Noboa</td>\n",
       "      <td>Medio Ambiente, Energía y Conectividad; Conser...</td>\n",
       "      <td>El documento presenta un enfoque integral para...</td>\n",
       "      <td>Un Ecuador conectado, preparado para el futuro...</td>\n",
       "      <td>ecuador conect prepar futur ciudad resilient e...</td>\n",
       "    </tr>\n",
       "    <tr>\n",
       "      <th>14</th>\n",
       "      <td>DNP007</td>\n",
       "      <td>Daniel Noboa</td>\n",
       "      <td>Institucionalidad pública; AccÇeso a la inform...</td>\n",
       "      <td>El documento presenta un plan para la **transf...</td>\n",
       "      <td>Un nuevo Estado para un nuevo Ecuador: Eficien...</td>\n",
       "      <td>nuev nuev ecuador eficient transparent partici...</td>\n",
       "    </tr>\n",
       "  </tbody>\n",
       "</table>\n",
       "</div>"
      ],
      "text/plain": [
       "        Id Candidato_raw                                 Temas tratados_raw  \\\n",
       "0   WGE001  Wilson Gomez  Conformación del binomio presidencial; Relació...   \n",
       "1   WGE002  Wilson Gomez  Crisis del país; Propuestas de rescate y trans...   \n",
       "2   WGE003  Wilson Gomez  La necesidad de un cambio en el modelo educati...   \n",
       "3   WGP004  Wilson Gomez  El rol de la agricultura, la pesca y la indust...   \n",
       "4   WGP005  Wilson Gomez  Extracción de petróleo; Historia y auge de la ...   \n",
       "5   WGP006  Wilson Gomez  Definición y módulos de FinTech; Criptomonedas...   \n",
       "6   WGP007  Wilson Gomez  Economía agraria; Industrialización y auge pet...   \n",
       "7   WGP008  Wilson Gomez  Ecoturismo en Ecuador; Economía y Productivida...   \n",
       "8   DNE001  Daniel Noboa  Formación y trayectoria, Seguridad ciudadana, ...   \n",
       "9   DNE002  Daniel Noboa  Seguridad y Justicia; Desaparición de los cuat...   \n",
       "10  DNE003  Daniel Noboa  Gobierno y Política; La democracia y sus desaf...   \n",
       "11  DNP004  Daniel Noboa  Reducción de la pobreza y la desigualdad; Acce...   \n",
       "12  DNP005  Daniel Noboa  Desarrollo Económico Sostenible; Transformació...   \n",
       "13  DNP006  Daniel Noboa  Medio Ambiente, Energía y Conectividad; Conser...   \n",
       "14  DNP007  Daniel Noboa  Institucionalidad pública; AccÇeso a la inform...   \n",
       "\n",
       "                                      Descripción_raw  \\\n",
       "0   El documento es una entrevista en la que un ca...   \n",
       "1   El documento expone la visión y propuestas del...   \n",
       "2   El documento es una entrevista con el candidat...   \n",
       "3   El documento analiza el sector agropecuario y ...   \n",
       "4   El documento analiza tres sectores clave en Ec...   \n",
       "5   El documento analiza el sector FinTech, su imp...   \n",
       "6   El texto describe la evolución económica de Ec...   \n",
       "7   El documento propone un plan de desarrollo par...   \n",
       "8   La entrevista con el presidente Daniel Noboa a...   \n",
       "9   La entrevista con el presidente Daniel Noboa e...   \n",
       "10  El conversatorio abordó temas clave como democ...   \n",
       "11  El documento presenta un plan integral para el...   \n",
       "12  El documento presenta un plan integral para el...   \n",
       "13  El documento presenta un enfoque integral para...   \n",
       "14  El documento presenta un plan para la **transf...   \n",
       "\n",
       "                                       Entrevista_raw  \\\n",
       "0   Yo vengo trabajando para muchos presidentes he...   \n",
       "1   Buenos días nos encontramos con Wilson Gómez c...   \n",
       "2   un gran abrazo para la inmensa audiencia de ra...   \n",
       "3   Parte 1: Diagnóstico de la Situación Actual La...   \n",
       "4   Parte 1: Extracción de petróleo en Ecuador Dia...   \n",
       "5   Parte 1: ¿Qué es FinTech y cuáles son sus módu...   \n",
       "6   EXTRACCIÓN DE ECONOMÍA & PRODUCTIVIDAD Histori...   \n",
       "7   Estrategia para el Desarrollo del Ecoturismo e...   \n",
       "8   Hola a todos Bienvenido a diálogo electoral ug...   \n",
       "9   la unidad nacional en pro de la paz y la segur...   \n",
       "10  Aló Buenos días con todos por favor tomen asie...   \n",
       "11  eguridad, desarrollo y bienestar para todos lo...   \n",
       "12  Desarrollo económico sostenible para mejorar l...   \n",
       "13  Un Ecuador conectado, preparado para el futuro...   \n",
       "14  Un nuevo Estado para un nuevo Ecuador: Eficien...   \n",
       "\n",
       "                                       Entrevista_pre  \n",
       "0   veng trabaj president oportun serv voluntari e...  \n",
       "1   buen dias encontr wilson gomez candidat presid...  \n",
       "2   gran abraz inmens audienci radi moren ecuador ...  \n",
       "3   part diagnost situacion actual agricultur pesc...  \n",
       "4   part extraccion petrole ecuador diagnost situa...  \n",
       "5   part fintech cual modul principal termin finte...  \n",
       "6   extraccion econom product histori econom ecuad...  \n",
       "7   estrategi desarroll ecotur ecuador problem afe...  \n",
       "8   hol bienven dialog electoral ug oliv merchan v...  \n",
       "9   unid nacional pro paz segur ecuador revist opi...  \n",
       "10  alo buen dias favor tom asient graci preci des...  \n",
       "11  egur desarroll bienest ecuatorian mejor sistem...  \n",
       "12  desarroll econom sosten mejor calid vid ecuato...  \n",
       "13  ecuador conect prepar futur ciudad resilient e...  \n",
       "14  nuev nuev ecuador eficient transparent partici...  "
      ]
     },
     "execution_count": 22,
     "metadata": {},
     "output_type": "execute_result"
    }
   ],
   "source": [
    "unified_global_df.drop(columns = ['Descripción_pre', 'Temas tratados_pre', 'Candidato_pre'], inplace=True)\n",
    "unified_global_df"
   ]
  },
  {
   "cell_type": "code",
   "execution_count": 26,
   "metadata": {},
   "outputs": [],
   "source": [
    "unified_raw_df.to_csv(rf'../data/raw/raw_corpus.csv', index=False)\n",
    "unified_processed_df.to_csv(rf'../data/processed/processed_corpus.csv', index=False)\n",
    "unified_global_df.to_csv(rf'../data/embeddings/unified_corpus.csv', index=False)"
   ]
  },
  {
   "cell_type": "markdown",
   "metadata": {},
   "source": [
    "### Generación de embeddings"
   ]
  },
  {
   "cell_type": "markdown",
   "metadata": {},
   "source": [
    "Una vez tenemos todo el corpus unificado en un único archivo, tenemos que calcular los embeddings para el contenido de cada entrevista, esto lo haremos utilizando la libreria SentenceTransformer."
   ]
  },
  {
   "cell_type": "code",
   "execution_count": 19,
   "metadata": {},
   "outputs": [],
   "source": [
    "unified_corpus = pd.read_csv('../data/embeddings/unified_corpus.csv')"
   ]
  },
  {
   "cell_type": "code",
   "execution_count": 29,
   "metadata": {},
   "outputs": [],
   "source": [
    "# Modelo con el que vamos a generar embeddings\n",
    "modelo = SentenceTransformer(\"all-MiniLM-L6-v2\")\n",
    "\n",
    "# Generación de los embeddings a partir de corpus preprocesado\n",
    "unified_corpus['embedding_entrevista'] = unified_corpus['Entrevista_pre'].apply(lambda x: modelo.encode(x).tolist())"
   ]
  },
  {
   "cell_type": "code",
   "execution_count": 30,
   "metadata": {},
   "outputs": [
    {
     "data": {
      "text/plain": [
       "0     [-0.014551389962434769, -0.0037382026202976704...\n",
       "1     [0.007717538625001907, -0.04105502739548683, -...\n",
       "2     [-0.007631767075508833, -0.03830636292695999, ...\n",
       "3     [0.01490846835076809, -0.08086168766021729, -0...\n",
       "4     [0.013256512582302094, -0.06549493223428726, -...\n",
       "5     [-0.008189497515559196, -0.02202538400888443, ...\n",
       "6     [0.020869851112365723, -0.09945572167634964, 0...\n",
       "7     [0.06572176516056061, -0.0940171629190445, -0....\n",
       "8     [0.006839875131845474, -0.03802037984132767, 0...\n",
       "9     [0.016809863969683647, -0.010982906445860863, ...\n",
       "10    [-0.05267263576388359, 0.05301240086555481, -0...\n",
       "11    [0.011799047701060772, -0.05923914164304733, -...\n",
       "12    [-0.0010314254323020577, -0.06436630338430405,...\n",
       "13    [0.08150909096002579, -0.052145641297101974, 0...\n",
       "14    [0.029494814574718475, -0.025782305747270584, ...\n",
       "Name: embedding_entrevista, dtype: object"
      ]
     },
     "execution_count": 30,
     "metadata": {},
     "output_type": "execute_result"
    }
   ],
   "source": [
    "unified_corpus['embedding_entrevista']"
   ]
  },
  {
   "cell_type": "code",
   "execution_count": 31,
   "metadata": {},
   "outputs": [],
   "source": [
    "unified_corpus.to_csv(rf'../data/embeddings/unified_corpus_embeddings.csv', index=False)"
   ]
  },
  {
   "cell_type": "markdown",
   "metadata": {},
   "source": [
    "### Base de datos vectorial con ChromaDB"
   ]
  },
  {
   "cell_type": "markdown",
   "metadata": {},
   "source": [
    "Una vez tenemos un único archivo que contiene todo el corpus junto a los embeddings del contenido de cada entrevista, vamos a construir una base de datos vectorial con ChromaDB para la realización de consultas.\n",
    "\n",
    "La estructura a manejar será la siguiente:\n",
    "- ID: El identificador alfanumérico de cada entrevista\n",
    "- embeddings: El vector representativo del contenido de la entrevista\n",
    "- metadatos: El nombre del candidato, tema tratado y una descripción de la entrevista"
   ]
  },
  {
   "cell_type": "code",
   "execution_count": 32,
   "metadata": {},
   "outputs": [],
   "source": [
    "# Creación de la base de datos vectorial\n",
    "chroma_client = chromadb.PersistentClient(path=\"../db/\")\n",
    "collection = chroma_client.get_or_create_collection(\"entrevistas\")"
   ]
  },
  {
   "cell_type": "code",
   "execution_count": 33,
   "metadata": {},
   "outputs": [],
   "source": [
    "embeddings_df = pd.read_csv('../data/embeddings/unified_corpus_embeddings.csv')"
   ]
  },
  {
   "cell_type": "code",
   "execution_count": 34,
   "metadata": {},
   "outputs": [
    {
     "data": {
      "text/plain": [
       "0     [-0.014551389962434769, -0.0037382026202976704...\n",
       "1     [0.007717538625001907, -0.04105502739548683, -...\n",
       "2     [-0.007631767075508833, -0.03830636292695999, ...\n",
       "3     [0.01490846835076809, -0.08086168766021729, -0...\n",
       "4     [0.013256512582302094, -0.06549493223428726, -...\n",
       "5     [-0.008189497515559196, -0.02202538400888443, ...\n",
       "6     [0.020869851112365723, -0.09945572167634964, 0...\n",
       "7     [0.06572176516056061, -0.0940171629190445, -0....\n",
       "8     [0.006839875131845474, -0.03802037984132767, 0...\n",
       "9     [0.016809863969683647, -0.010982906445860863, ...\n",
       "10    [-0.05267263576388359, 0.05301240086555481, -0...\n",
       "11    [0.011799047701060772, -0.05923914164304733, -...\n",
       "12    [-0.0010314254323020577, -0.06436630338430405,...\n",
       "13    [0.08150909096002579, -0.052145641297101974, 0...\n",
       "14    [0.029494814574718475, -0.025782305747270584, ...\n",
       "Name: embedding_entrevista, dtype: object"
      ]
     },
     "execution_count": 34,
     "metadata": {},
     "output_type": "execute_result"
    }
   ],
   "source": [
    "embeddings_df['embedding_entrevista']"
   ]
  },
  {
   "cell_type": "code",
   "execution_count": 35,
   "metadata": {},
   "outputs": [],
   "source": [
    "for index, row in embeddings_df.iterrows():\n",
    "    collection.add(\n",
    "        ids = [row['Id']],\n",
    "        documents = [row['Entrevista_raw']],\n",
    "        embeddings = [ast.literal_eval(row['embedding_entrevista'])],\n",
    "        metadatas = [{\n",
    "            'candidato': row['Candidato_raw'],\n",
    "            'temas_tratados': row['Temas tratados_raw'],\n",
    "            'descripcion': row['Descripción_raw']\n",
    "        }]\n",
    "    )"
   ]
  },
  {
   "cell_type": "markdown",
   "metadata": {},
   "source": [
    "### Realizar una query"
   ]
  },
  {
   "cell_type": "code",
   "execution_count": 41,
   "metadata": {},
   "outputs": [],
   "source": [
    "# Inicializar el stemmer\n",
    "stemmer = PorterStemmer()\n",
    "\n",
    "# Cargar stopwords en español\n",
    "stop_words = set(stopwords.words('spanish'))\n",
    "\n",
    "# Función de preprocesamiento (tokenización + stopwords + stemming)\n",
    "def preprocesar_texto(texto):\n",
    "    tokens = nltk.word_tokenize(texto.lower())\n",
    "    tokens_sin_stopwords = [t for t in tokens if t not in stop_words]\n",
    "    tokens_stemm = [stemmer.stem(t) for t in tokens_sin_stopwords]\n",
    "    return \" \".join(tokens_stemm)"
   ]
  },
  {
   "cell_type": "code",
   "execution_count": 44,
   "metadata": {},
   "outputs": [],
   "source": [
    "query = 'Vamos a reducir los asaltos en el país'\n",
    "\n",
    "# Preprocesar la consulta\n",
    "preproc_query = preprocesar_texto(query)\n",
    "\n",
    "# Generar el embedding de la consulta\n",
    "embedding_query = modelo.encode(preproc_query)"
   ]
  },
  {
   "cell_type": "code",
   "execution_count": 66,
   "metadata": {},
   "outputs": [
    {
     "name": "stdout",
     "output_type": "stream",
     "text": [
      "Resultados de la consulta:\n",
      "\n",
      "Resultado 1\n",
      "ID: WGE003\n",
      "Contenido: un gran abrazo para la inmensa audiencia de radio Morena en todo el Ecuador y en varias partes desde el mar hasta las montañas delar del carch al macará tras las fronteras radio moneda llega a la entrada de Lima con los 30,000 watios de potencia que tiene Eh bueno ya tenemos en nuestros estudios a Enrique Gómez él es El reemplazo de J topic una persona vinculada al resao a las ayudas solidarias en Guayaquil ha hecho mucho en el cuerpo de bomberos siempre y decirle hace un rato entrevistamos a un de los encuestadores digo yo que se en lugar de continuar y al menos mantener lo que existía por esta falta de inversión No se ha dado lo primero debe ser no quitarle el dinero a las empresas públicas qué es lo que pasa hoy el gobierno central quita el dinero de las empresas públicas que debería reinvertir en los mantenimientos y en las nuevas inversiones y lo que termina usando es el gasto de pago de sueldos o el pago de otros proyectos es ahí donde esos recursos que sí existen dentro de las mismas empresas públicas deben ser reutilizados para poder con ellos generar el impacto y con esto los mantenimientos respectivos los estudios que permitan determinar Hacia dónde Y cómo debe ir y es eso un fortalecimiento importante en el cual nos vamos a basar Enrique hay un tema que son los contratos petroleros y ha habido cambios de la forma de contrato petrolero en el gobierno de Rafael Correa se hizo unos cambios radicales de participación a operación regreso a participación yo creo que dada la escasez de dinero que hay los contratos deberían orientarse realmente a que los inversionistas extranjeros que son las petroleras y las petroleras no son la madre Teresa no son duros negociantes pero si no hay dinero vamos a tener deberían tener una orientación hacia contratos que tengan que le den cierta tranquilidad acabamos de entrevistar a un líder grem que nos dicen sino en ese saber que solamente uniendo las voluntades podemos tener un impacto real hoy la intención es invitarlos porque juntos somos país juntos somos más Y juntos vamos a ser Ecuador ese Ecuador que queremos Yo también me alegré y me alegro por los hermanos colombianos porque dependemos ahora en esta crisis energética el anuncio ahí en una histórica Santa Marta Donde ha hecho el hallazgo no solamente ecopetrol petrobras hablan de seis seis seis hablan de hallazgo de 6 billones de pies 6 trillones de pies Esto sí de pies cúbicos con esto billones billones de pies cúbicos con esto una inversión de 4100 millones y se apalanca porque tenemos que buscar nos ponen a nosotros y le preg usted aspira a dirigir el país psicólogo Wilson Enrique Gómez en el contexto mundial los ponen como un país privilegiado probablemente el gas del golpo y en otras partes ni siquiera lo estamos explotando y Colombia ya se presenta ahora en estos momentos que tienen asegurado para 50 años Mira es tan triste que la desconfianza en Ecuador haya crecido al punto que está hoy que esto desestimula la inversión extranjera y esto que tú estás diciendo es super importante porque mientras Colombia encuentra esa huella de Gas del lado de Perú tienes también 4,000 millones que vienen de parte de china con el el tema del nuevo Puerto y ahí empiezas a preguntarte y Ecuador nosotros Ecuador este pequeño paraíso este pequeño punto en el mundo tan hermoso tan lleno de re\n",
      "Metadatos: {'candidato': 'Wilson Gomez', 'descripcion': 'El documento es una entrevista con el candidato presidencial Enrique Gómez, donde analiza la crisis económica, la inseguridad y la falta de confianza en la política en Ecuador. Propone un plan de rescate y transformación, priorizando la inversión en agroindustria, turismo y exportaciones, así como la reactivación del sector petrolero mediante una mejor gestión de recursos. En seguridad, plantea una estrategia integral con la participación de la policía, el Ministerio de Defensa y el poder judicial. Destaca la importancia de transparencia y anticorrupción, proponiendo pruebas toxicológicas para candidatos y una mayor rendición de cuentas. Además, enfatiza la educación como clave para el cambio, con una reforma que fomente el pensamiento crítico. También menciona la crisis energética y la necesidad de diversificar la matriz energética. Finalmente, se informa que Gómez reemplaza a Jan Topic en la papeleta presidencial y hace un llamado a la unidad y al voto consciente para transformar el país.', 'temas_tratados': 'La necesidad de un cambio en el modelo educativo; La crítica a la situación actual del país; La propuesta de un plan de rescate y transformación del Ecuador; El problema de la inversión y producción petrolera; La situación de los contratos petroleros; El incremento de la inseguridad y los secuestros; La importancia de la transparencia y el juego limpio en la política; La crítica a la falta de confianza en el país y sus autoridades; El desinterés ciudadano en la política; La importancia de la unidad y la participación ciudadana; La preocupación por la situación económica y social; La crítica a las promesas vacías de los políticos; La preocupación por la falta de transparencia en el proceso electoral; La mención de que Enrique Gómez reemplaza al economista Jan Topic en la papeleta presidencial.'}\n",
      "\n",
      "Resultado 2\n",
      "ID: DNE003\n",
      "Contenido: Aló Buenos días con todos por favor tomen asiento Gracias ya el precio del de desentenderse de la política es el ser gobernado por los peores hombres Platón Buenos días estimadas autoridades doctor Jorge Baeza decano de la facultad de jurisprudencia Y ciencias sociales magíster Emerson chicaiza coordinador de la escuela de comunicación doctor Patricio Torres decano de la carrera de negocios internacionales de más autoridades presentes y compañeros les damos la bienvenida al conversatorio con el candidato presidenciable Daniel Novoa aquí en la qué tal perfecto mucho gusto Daniel te presento nuestro rector Gustavo Vega Daniel bienvenido Muchas gracias Le agradezco mucho aquí vendremos aquí vendremos perfecto muchas gracias chicos por favor si me permiten un segundo gracias a quién le agradecemos su presencia y aceptar la invitación para compartirnos sus propuestas y resolver nuestras dudas acerca de su plan de trabajo quiero recordarles que este es un espacio que busca fomentar el voto informado en la juventud Esperamos que este espacio resulte enriquecedor y de interés para todos ustedes de parte de todos los jóvenes que conformamos la universidad Internacional del Ecuador le damos la bienvenida al Señor Daniel nuevo así a continuación tenemos unas palabras de bienvenida del doctor Jorge Baeza decano de la facultad de jurisprudencia Y ciencias sociales de la universidad Internacional del Ecuador estimadas autoridades estudiantes candidato a la presidencia Daniel loboa público en general la democracia es un sistema de gobierno en el cual el poder político reside en el pueblo en una democracia los ciudadanos tienen el derecho de participar en la toma de decisiones ya sea directamente o a través de representantes elegidos sin embargo es importante reconocer que ninguna forma de gobierno es perfecta y la democracia también tiene sus desafíos y defectos estos pueden incluir la polarización política la corrupción la desigualdad la burocracia en la toma de decisiones por lo que la calidad de la Democracia puede variar significativamente de un país a otro en última instancia la percepción de si la democracia es el mejor sistema o no puede depender de la cultura la historia y las circunstancias específicas de cada sociedad a menudo las discusiones sobre la democracia se centran en Cómo mejorarla y abordar sus defectos para que siga siendo un sistema eficaz y justo la uid Power by Arizona State University conscientes de la importancia que nuestros estudiantes voten de manera responsable e informada decidió realizar esta jornada que el día de hoy nos lleva a conocer las propuestas de gobierno del candidato a la presidencia Daniel Novoa SIM a quien le agradezco enormemente por acompañarnos Y de quién voy a hacer un breve resumen de su vida Daniel no hubo así nació el 30 de noviembre de 1987 en la ciudad de Guayaquil es hijo del empresario y ex candidato a la presidencia de la República Álvaro Novoa pontón y de la doctora en medicina Anabella SIM casado con la viña volbasini quien es especialista en materias de nutrición y con quien tiene una hija apasionado por el deporte le gusta correr y ha participado y completado varias maratones a nivel nacional e internacional fanático del equipo emelec nadie es perfecto promueve promueve encuentros deportivos a nivel nacional que motivan a la juventud ecuatoriana A una vida sana tiene una pasión que es la música arte que disfruta al practicar la guitarra y el canto amante de los animales apoyado Refugio de animales en situación de calle siendo un fiel defensor de sus derechos y tiene cuatro hijos perrunos formación académica administrador de negocios por la escuela de negocios Steren de la Universidad de Nueva York cuenta con tres maestrías internacionales administración de negocios en kellogg School of management administración pública en Harvard Kennedy School gobernanza y comunicación pública en la universidad de George Washington trayectoria política y empresarial es un importante empresario político de la República del Ecuador con una amplia trayectoria en el ámbito empresarial a nivel nacional e internacional en el rubro de inversiones logística y financiera a sus 18 años ya había fundado varias empresas entre ellas dnah training Group empresa inmobiliaria y de logística dedicada a la organización de eventos la cual le dio una experiencia enriquecedora que le permitió un año después trabajar en la corporación Novoa llegando a ser el director naviero más joven de la historia de la compañía en política fue asambleísta por la provincia de Santa Elena desde mayo de 2021 a mayo del 2023 cumplió su misión legislativa destacándose como presidente de la comisión de desarrollo económico productivo y la microempresa en la asamblea nacional del Ecuador una de las más destacadas en cuanto eficiencia transparencia y consenso según datos oficiales su gestión en 20% de las leyes aprobadas por la asamblea nacional en el período en el periodo anterior actualmente es República del Ecuador queridos estudiantes les doy paso a la moderación de este conversatorio y un aplauso grande para ustedes y para Daniel buenos días a todos los presentes Mi nombre es Michael giraldo estudiante de Tercer semestre de derecho y es y este jueves me contrareé en moderar la acción Buenos días mi nombre es doménica Zambrano estudiante de segundo semestre de derecho y De igual forma voy a estar como moderadora este día Les recordamos que estamos en transmisión en vivo con las sedes de Loja y las sedes de Guayaquil Gracias por acompañarnos muy buenos días señor candidato a la presidencia Es un honor tenerlo aquí una de las preguntas que nos envían desde la sede Loja es la siguiente dado que la sobrepoblación en las prisiones es un problema crítico en el Ecuador Cómo planteas garantizar las medidas alternativas de la prisión preventiva y las penas alternativas para delitos no violentos se han aplicados de manera justa y efectiva Y qué estrategias implementará ellas para invitar la reincidencia de estos programas nuestra nuestra pregunta viene de Carla Paulina Conde pacha de séptimo ciclo de tecnologías de la información y comunicación Sí buenos días Gracias por recibirme Gracias por Gracias por estar acá hay varios temas ahí que tocar en la parte de segmentación de cárceles nosotros tenemos un plan que claramente diferencia la población que ha cometido delitos violentos con los que no el 17 18% de la población son los que han cometido delitos violentos entonces varios puntos primero segmentación adecuada hasta que se pueda terminar toda la infraestructura que se necesita en la construcción vamos a tener cárceles barcazas donde vamos a tener los criminales que hoy en día son una amenaza para la seguridad pública esos criminales pues donde viene el principal problema tenemos que reformar el snape Por qué Porque el snake es el que hace el informe del comportamiento de de estos criminales entonces de repente tienes alguien que ha cometido diez asesinatos y tiene una un informe del snyder que todo bien y que es un Pues un modelo de ejemplar de comportamiento y lo mueven a una cárcel que no es de máxima seguridad entonces puntos críticos el snai cambiar todo el personal del snake porque eso está podrido de Pues en todos los niveles segundo la segmentación especialmente la segmentación temporal por medio de cárceles barcazas para tener a los más violentos bien apretados hasta la reestructuración de las cárceles y la construcción de las cárceles las cárceles seccionales de mínima seguridad como una medida adicional para la gente que no ha cometido los delitos violentos pueda estar en esas mismas cárceles cárceles en las cuales con un buen comportamiento y con trabajo y manufactura van a poder reducir sus días de pena entonces se puede reinsertar a la sociedad más rápido a los que no han cometido delitos violentos Y pues también reducir el gasto del Estado puede tener un preso cuesta en la parte del 17 18% de la población violenta si debemos de trabajar en los informes correctos con el snai pero también reformar en el coip la persona que es reincidente no puede tener reducción de pena que hace una persona comete tres delitos similar a lo que en Estados Unidos son los tres strikes ya no puede por ningún caso tener un informe de la nada y que diga no Este es un querubín que se ha portado pues súper bien Y mejor reduzcanle la pena y muévelo un lugar de mínima seguridad entonces son son varios puntos críticos pero hay que entender las instituciones del estado que están involucradas el snai como algo clave la segmentación de cárceles y la las cárceles barcazas como una medida de emergencia para que pues no estén dentro de las mismas cárceles los cabecillas que puedan seguir este fomentando una un comportamiento delincuencial Muchas gracias por su respuesta esta pregunta también viene de sede Loja y es acerca del emprendimiento dado que la creación de empleos de calidad es un Pilar importante en tu plan cómo planeas equilibrar la promoción de sectores como la industria 4,0 y las energías renovables que ofrecen buenos empleos con la necesidad de mantener un equilibrio ecológico y sostenible al país que estrategias específicas consideras cruciales para lograr este equilibrio viene de Samanta Lizbeth Román jamaramillo cuarto ciclo de negocios internacionales Ok en la parte tecnológica uno de nuestros programas y es hacer zonas francas verticales también especialmente para el sector tecnológico ocurren en Colombia en Colombia ha sido muy exitoso tener zona franca verticales para el área tecnológica para el área de programación para el área de elaboración de software y de software de seguridad eso es fundamental y en energías renovables hay que entender el país el Ecuador en promedio a nivel nacional tiene muy poco viento y tiene pocas zonas de altísima luminosidad para que sea rentable proyectos fotovoltaicos hay uno en tu gradua baja y uno en la provincia de Chimborazo Entonces primero Entonces primero impulsar a tarifa cero los proyectos fotovoltaicos en la zona de tubaja que es en la frontera entre guayas y Santa Elena y la parte de Chimborazo dar beneficios en zonas de poca luminosidad al final del día es poco rentable y es para el Estado poco rentable para la empresa privada Entonces eso no lo digo yo lo dice el mismo mapa de luminosidad del de petroecuador y del y del Ministerio de energía en la parte donde sí podemos ser excelentes es en la generación eléctrica hidroeléctrica en la parte de hidro tenemos mucha agua tenemos una alta verticalidad en muchas zonas y podemos tener en nuestra propia red eléctrica microhidroeléctricas entre 40 y 100 megas donde podamos conectar el sistema eléctrico Nacional para la autogeneración y también para la venta de Electricidad debemos también como estado invertir en transmisión y distribución eléctrica para que no sea solo un buen negocio en la producción sino que el estado facilite la distribución de la electricidad correctamente en toda la población a nivel nacional Muchas gracias candidato La última pregunta es referente a temas legales en cuanto a la reforma judicial y procesal enfocándose en un principio de celeridad procesal cómo le contratará un personal cómo le contratará un más personal judicial nos garantizará no solo tener juicios rápidos sino un respeto al debido proceso y a las demás principios procesales en el transcurso de los juicios y cuáles podrán ser las nuevas tecnologías que agiten los procesos para un bien común teniendo en cuenta en cuenta la presunción de inocencia y el derecho de libertad viene de Roberto Damián González Mier séptimo ciclo de derecho bueno por medio de consulta en los primeros días vamos a reformar este partes claves del sistema judicial y especialmente procesos entonces hay dos zonas importantes donde podremos dar mayor justicia y mayor seguridad el uno es en el proceso de accionar de las fuerzas armadas para reducir la violencia y proteger nuestra soberanía ese es uno y el otro es en la cantidad de mecanismos actuales que hay para impedir justicia en cierta forma debemos de reformar para que no exista pues lo como hoy en día una infinidad de posibilidades de acción de protección o de hagas Corpus que entorpecen a la justicia sino que debemos de tener un sistema judicial más simplificado que le dé mayor seguridad a la población y le dé mayor seguridad también a cualquier inversionista que quiera venir a este país muy bien Ahora hablaremos paso a las preguntas por parte la primera pregunta es según inec la tasa de natalidad en el Ecuador es de dos punto cero y para el 2030 se disminuiría a uno punto cincuenta ocasionando así un declive en a producción y en la fuerza laboral de un país Qué medidas considera usted pertinentes para evitar el envejecimiento poblacional Como por ejemplo el que se vive actualmente en España en el cual la tasa de natalidad está medida por 1,23 hijos por mujer esta pregunta fue enviada gracias a Melissa Torres estudiante de la escuela de derecho de la uid sede de Guayaquil candidato le escuchamos sí dos temas claves ahí tenemos que ver también la tasa de natalidad hace 15 y hace 20 años porque ahí está el problema real al ver la tasa natalidad a ver la tasa de natalidad actual la mayor el mayor problema se va a venir en 15 a 20 años pero tenemos que ver la tasa de natalidad de hace 15 20 años para ver por qué estamos en el problema actual el índice poblacional del Ecuador es bastante Joven se parece un poco más a Brasil y a India y menos a España menos a Japón nosotros tenemos una especie de una pirámide en el cual tenemos una masa crítica de personas entre 16 y 35 años especialmente muchísimas personas entre 16 y 25 años Cuál es ahí el reto principal como nación que es lo que tenemos que hacer encontrar oportunidades y ocupación para la juventud ese es el problema real el problema real que tenemos hoy en día es que tenemos 200,000 jóvenes que aplican una universidad pública y no pueden entrar tenemos una tasa de desocupación juvenil menor de 29 años del 50% también pero eso eran las tasas de natalidades de hace 20 años de hace 25 años eso es lo que no estamos viendo como nación nuestro problema principal es generar las plazas de trabajo y darle educación a todos los jóvenes que hoy en día no tienen la oportunidad el momento que solucionamos eso que es uno de nuestros tres Pilares fundamentales los tres Pilares urgentes Uno de ellos es la desocupación juvenil si logramos tener empleo este pleno entre 16 y 25 años actuales vamos a poder solucionar un problema de seguro social vamos a poder reducir la tasa de violencia tasa de delincuencia ansiedad y depresión que estamos ahorita en un récord histórico pero tenemos que entender primero Cómo está la población distribuida en el Ecuador ha crecido el número de egresados exponencialmente en los últimos cinco años pero no han crecido ni los cupos en las universidades ni han crecido las plazas de trabajo entonces seguimos teniendo problemas que cuando llegan a los 18 años se gradúan sólo este año 200,000 no tiene un cupo de una universidad próximo año 250,000 el siguiente año 280,000 y se va acumulando entonces para mí el problema fundamental es ese el resto si logramos tener una sociedad más desarrollada con mayor empleo pleno con mayor nivel de educación es natural que se reduzca la tasa de natalidad podría explicar cómo va a cancelar la deuda que mantiene el iess con los diferentes prestadores externos que dan asistencia a los afiliados en el área de salud esta pregunta nos llega gracias a clever Miranda estudiante de la escuela de psicología de la uid sede de Guayaquil Sí varios hay varias formas primero tenemos una tasa de desempleo y de su empleo altísimo tenemos que generar mayor cantidad de plazas de trabajo para poder tener mayor número de aportantes el seguro social simplificado es una caja tienes un ingreso tiene sus egresos los egresos se han mantenido sostenidos pero los ingresos han bajado tenemos muy pocos ingresos para la cantidad de egresos que pueda tener y la cosa sigue empeorando al poder reducir de un 48% del desempleo de su empleo juvenil a un máximo de un 25% hay suficiente dinero para cubrir las obligaciones que tiene el seguro social con sus proveedores otra fórmula para darle liquidez al seguro social es un sistema de compra de bonos el estado recompra los bonos que en su momento en gobiernos pasados Disculpen el término que los entucó al seguro social y de esa manera se va otorgando no solo bajando la deuda con el seguro social sino dándole mayor liquidez quitándole papeles y dándole efectivo al seguro social para que pueda atender a tantas personas que hoy en día tienen una necesidad de salud y mucha gente con enfermedades catastróficas que hoy en día no están siendo atendidos Muchas gracias ante la ola de migrantes que llegan al país tiene algún plan para controlar el ingreso Y que no lleguen al país personas que pudiesen tener antecedentes penales esta pregunta no llega gracias a Gabriela Benavides estudiante de la escuela de derecho de la uid sede de Sí primero una preprobación de viaje como existe entre Estados Unidos y Europa con el con el esta que exista una pre aprobación la persona que quiere entrar al Ecuador lo hace online si es que pues se encuentra que existe un pasado judicial terrible Simplemente no se le da la autorización de ingreso Ese es el primer punto de revisión Segundo si tenemos un plazo de visa que se está dando de demasiado tiempo tres meses me parece demasiado debería reducirse entre 15 y 20 días por turismo no por tres meses si vienen 15 20 días que es el 95% de las personas que ingresan por turismo al Ecuador de esa manera ya reduces la posibilidad de que se quede esa persona Entonces dos tiene que ver un sistema de pre aprobación que se lo hace antes de que la persona Viaje al Ecuador Y número dos tiene que reducirse el plazo de la visa a un máximo creería yo de 20 días a continuación pasamos a las preguntas por parte de nuestra sede quito que las van a realizar nuestros compañeros aquí presentes así que de manera ordenada vamos uno por uno por favor empezamos con la señorita nayelio bando estudiante de segundo semestre de derecho nuestros compañeros aquí presentes cómo será el proceso de auditorías autoridades gubernamentales para combatir la corrupción sí lo primero una auditoría externa a las 10 compañías que más flujo administran en el estado tiene que ver una auditoría externa tenemos compañías como petroecuador que todavía no tienen balances auditados de los últimos años y es clave primero entender con una auditoría externa la situación de cada una de las eps después tiene que haber un sistema en los Estados Unidos dice betting que es de de control de funcionarios antes de que un funcionario pueda entrar tiene que haber un análisis de la mano de la uafe y también de la mano del de fiscalidad y de diferentes instituciones del estado para asegurarse que esa persona que está ingresando sea una persona limpia sea una persona que viene verdaderamente a ayudar al país entonces las dos cosas tiene que haber auditoría de las compañías públicas Así mismo como los funcionarios que van a ser parte de el cuerpo administrativo de estas compañías la siguiente pregunta la realizará Lizeth Pro año de segundo semestre en ese caso se convertirá con Android Hola hola hola Cómo vas definitivamente eres más guapo en persona Mi pregunta es Cuál será su estrategia para proteger la dolarización reducir la deuda externa Ya que en varias entrevistas usted ha planteado usar el dinero de la reserva con fin de generar inversión pública Cuáles serían sus estrategias para la reducción de la inflación conociendo que este año subió un cero diez por ciento más y Qué medidas plantearía para reducir el riesgo del país gracias Sí muy buena pregunta primero hablando de las reservas lo que hemos puesto es un techo en el caso de una desgracia mayor a la que estamos esperando con el fenómeno del niño la manera de lograr sustentar la misma dolarización de esa manera es que el set el cual ya hemos conversado con el gobierno de los Estados Unidos soporte con una especie de garantía en el caso de tener que usar 1500 millones de dólares en la reserva En qué caso sería eso Si es que hay gente muriéndose por inundaciones en la provincia de los ríos esmeraldas o manabí si es que eso no ocurre no habría ninguna razón porque usarlo solo sería en un caso extremo de ahí controlar la inflación Cómo se controla la inflación controlando costos Cómo se controla costos con inversión pública y fomentar la inversión privada para que podamos tener mejores costos de vida como en infraestructura eléctrica distribución y transmisión eléctrica con 300 millones de dólares de inversión se puede bajar hasta en un quince a veinte por ciento el costo kilowatts por hora baja el costo de electricidad el toda la cadena se beneficia hay menor inflación en el caso de combustibles más de 140,000 barriles diarios hoy en día se venden el estado de los vende es spot con hasta 5 dólares de comisión por venta de crudo y también hay comisiones por importación de combustibles al refinar nosotros ese mismo ese mismo volumen en el Ecuador hay más de 500 millones de dólares al año en comisiones que se generarían dejarían de dar e igual tuviéramos un consumo nacional a menor costo de esa manera se controla también la inflación al tener un buen costo de combustibles desarrollo infraestructura hídrica hemos hablado con el gobierno de Estados Unidos con el Banco Mundial fondo monetario internacional y también con el gobierno de Israel para tecnología e infraestructura de riego hoy en día por ejemplo la gran mayoría de los pequeños productores de maíz a lo largo del país tienen una cosecha anual porque no si tuviesen dos o tres anuales bajan sus costos si bajan sus costos baja el costo de comida si vas al costo de comida baja la inflación entonces hay que trabajar como estado para tener menor costo electricidad menor costo de combustibles tener infraestructura de riego y desarrollo hídrico y al mismo tiempo un sistema tributario que premia a la contratación Cómo un techo para empresas del 22% y deducciones tributarias por la generación de nuevos empleos y una deducción aún mayor por la contratación de egresados de universidades públicas de esa manera se fomenta la contratación de jóvenes y se premia a las empresas que al final del ejercicio contable estén al día con el seguro social con el Ministerio de trabajo y con el servicio de rentas internas si cumple con eso y se comprueba la contratación adicional tiene una deducción tributaria entonces hay que volver al país más competitivo si se vuelve el país más competitivo podemos controlar la inflación de una mejor manera nosotros no podemos ni ajustar mucho los intereses ni andar imprimiendo billetes porque usamos el dólar Entonces qué es lo que nos queda como opción ser competitivos en donde sí podemos ser competitivos Buenos días mi pregunta es la siguiente Cuáles serán los temas relevantes que tratará al llegar a la presidencia conociendo que su periodo es tan corto poniendo en énfasis en el tema educación Cómo garantizar el derecho a la educación de calidad y cómo manejaría el tema de universidad pública y becas Sí muy muy buena pregunta primero la seguridad es un derecho fundamental la salud pública y la educación pública son derechos constitucionales también que el estado los debe proveer no son privatizables y eso es parte de nuestra propuesta es fortalecer el sistema de salud pública y a la educación pública Cuáles son los tres temas urgentes que tenemos que atender en esos ya ni sé cuántos meses son porque cada vez este gobierno y el cnm anda posponiendo la transmisión de mando Entonces ya mismo llegamos a enero en lo que están previstos yo creo que deberíamos de ya en noviembre sentarnos y empezar a cambiar las cosas primero desocupación juvenil segundo seguridad y tercero generación de empleo Esos son los tres puntos fundamentales no hay mucho tiempo para más después hablar de una agencia aeroespacial la ecuatoriana pues eso está prioridad número 500 pero en estos tres como se lo logra primero simplificar el sistema de otorgar cupos en las universidades públicas fortalecer y en eso lo hemos hablado también con los operadores de teléfono para la infraestructura digital y la conectividad y dar opciones de carreras telemáticas sistemas duales y escuelas técnicas de esa manera poder otorgar mayor cantidad de cupos y como un tema adicional adicional trabajar en conjunto con las universidades privadas para que con la infraestructura universidades privadas asistir al Estado el estado pues trabajaría en conjunto con las universidades privadas para colocar a todos estos jóvenes que hoy en día están desocupados estén estudiando entonces tema de desocupación juvenil importantísimo generación de empleo está nuestro programa de competitividad como lo hablaba fomentar la generación de empleo según housemann que fue profesor mío en en Harvard él está posible Nobel de economía él tiene el Atlas de complejidad económica y para el Ecuador los saltos los cuatro saltos más cortos para generar empleo están en cuatro sectores uno infraestructura y construcción número dos ganadería número 3 café elaborados número 4 cacao si impulsamos estos cuatro sectores podemos generar mayor cantidad de empleo más rápido Entonces como es un tema urgente un periodo corto tenemos que hacer esos saltos más rápido en infraestructura tenemos que invertir en nuestro sistema Vial que hoy en día pues está muy deficiente debemos de también agilizar las concesiones y apps para que exista también la inversión en construcción e infraestructura y medidas Como por ejemplo el IVA diferenciado lo vamos a meter en la parte de construcción durante el periodo de de Como le digo ya ni sé cuántos meses son porque me los andan reduciendo cada vez pero digamos 17 meses en esos 17 meses y que vamos a tener un fenómeno del niño vamos a reducir el IVA para material de construcción del 12 al 5% nadie compra material de construcción para dejarlo guardado en una bodega hasta hace daño en cambio desde una familia humilde hasta un mega proyecto de mil millones de dólares usan material de construcción de esa manera fomentamos también mayor generación de empleo más rápido desarrollo de infraestructura de riego desarrollo hídrico y desarrollo genética vamos a tener un centro de genética con embrión completo para ganadería en chorme en el cual en dos generaciones logramos mejorar el material genético ganado que se engorde más y con infraestructura de riego y distribución correcta de agua también el ganado está más hidratado mayor generación de empleo en el segundo punto de housemann 3 y 4 es desarrollo de infraestructura de riego también café y cacao son dos este sectores que también hay mucho trabajo y mano de obra con con este que necesita fina motricidad muchas mujeres también entonces ya con eso se genera mucho empleo en el punto 3 y 4 Eso es en la parte de generación empleo y en la parte de seguridad que es el tercer punto urgente nuestro plan Fénix el plan Fénix se trata básicamente de con mano dura y con vigilancia ciudadana y tecnología lograr anticipar la mayor cantidad de crímenes es lograr dar seguridad a la ciudadanía anticipando el problema no luchando violencia con violencia sino tecnología anticipación inteligencia con una agencia Nacional de inteligencia para reducir la cantidad de muertes violentas que hay hoy en día para reducir la cantidad de femicidios también para dar calma a las familias ecuatorianas calma a los jóvenes que quieran pues salir en la noche sin tener miedo a que les pueda caer un balazo solo por accidente entonces esos tres puntos son los temas urgentes son los que nos vamos a enfocar en los 17 meses y como le digo ya la agencia aeroespacial del Ecuador ya será para un próximo periodo pero ahorita tenemos que enfocarnos en esos tres temas urgentes Buenos días Daniel y con el foro presente soy Alejandro Sánchez de Tercer semestre de derecho Mi pregunta es usted ha dicho que va a eliminar la senescyt las competencias de esta secretaría a Qué institución pasarían gracias Ministerio de Educación Así mismo hay gente que se encasilla a veces en el nombre Este no es que la función se va a eliminar la agencia que ha resultado ser ineficiente en muchos casos se le elimina se le absorbe el Ministerio de Educación la absorben eso así mismo hay un tema similar con saizen nosotros no es que queremos quitarle beneficios a los artistas Ecuatorianos lo contrario es subir el presupuesto en el Ministerio de cultura para poder fomentar correctamente con conservatorios con escuelas de producción a la a los artistas Ecuatorianos darles mayor cantidad de beneficios pero no por dar beneficios restarle la competitividad al Ecuador en temas de eventos o en temas de que hay una persecución a los gimnasios eso tampoco es correcto que quisiera tener aquí quisiera tener un festival en Quito en el que vengan ochenta mil personas de todo el mundo y puedan esas 80,000 personas alojarse sea 80 mil personas poder comer poder este salir este a conocer la ciudad entonces las dos cosas el mismo concepto no es quitar la función Es que la opción la función la absorba el Ministerio de Educación Aló Buenos días candidato me llamo Leonardo Villarreal soy estudiante de derecho bueno Yo tengo dos cuestiones la primera pues reconocer que en verdad va a ser un gobierno muy corto 17 meses que como usted mismo aclara pues cada vez van recortando más y más sin embargo Aquí tengo una cuestión la cuestión es cómo Serán las cuál Serán las medidas que tome su gobierno para las relaciones internacionales que va a tener el Ecuador y sobre todo en tema de inmigración Cuáles son las medidas y cómo se va a relacionar con países como por ejemplo Colombia y Venezuela que es donde más personas inmigrantes vienen sí debemos de tener empatía debemos de tener corazón también siempre lo uso de ejemplo lo que pasa es que muchos de nosotros pues ni siquiera habían nacido en los años 70 hubo un Boom petrolero en Venezuela Hubo mucho ecuatoriano que migró a Venezuela ahí los que estaban bien eran ellos no nosotros imagínense si es que capaz algún abuelo suyo los hubiesen tratado mal no hubiese no se lo hubiese tratado con humanidad no se lo hubiese tratado con con decencia creo que el Ecuador debe de tener y relaciones fuertes y correctas con Colombia Colombia siempre ha sido un país hermano y con el pueblo venezolano que es diferente con el pueblo venezolano debemos de tener la empatía debemos de tener la de nuevo el corazón de poder recibir a las personas que quieran también salir adelante que tengan los derechos tienen derechos humanos y tienen el derecho de salir adelante siempre y cuando hagan las cosas bien el momento que vienes a un país a cometer crímenes pues muchas gracias Chau pero si vienes acá a trabajar a estudiar a tratar de salir adelante con tu familia este país va a tener los brazos abiertos para eso también seguir adelante derechos humanos cuando hagan las cosas bien finalmente Contamos con las preguntas que Se realizaron a través del Instagram de movimiento líderes Gracias a todos los que participaron en esta encuesta la primera pregunta es su plan de trabajo Busca generar un incremento en el aspecto laboral Cómo va a lograrlo en poco tiempo de mandato que tiene candidato su respuesta primero hay que hacer las reformas correctas como lo hizo Clemente en su momento leyes económicas urgente y una consulta leyes económicas Durante cada mes de esa manera forzar también a la asamblea que en 28 Días puedan dar un resultado y sobre el tratamiento de alguna ley la consulta en los primeros cien días pero hay que dejar bien sentada las bases para el progreso en el Ecuador a los cinco o seis meses ya con 34 leyes económicas corrientes y con una consulta exitosa ya se podrán ver cambios y en tema de seguridad y en tema de desocupación juvenil son temas urgentes que sin asamblea se lo pueden resolver pero hay que actuar de una manera mucho más proactiva y entender los mecanismos constitucionales del Ecuador no mucha gente los entiende pero nosotros sí sabemos cómo hacerlo fui presidente de la comisión de desarrollo económico que en una asamblea caótica logramos meter este más de 11 proyectos de ley con más de cien votos y con una asamblea muy fraccionada creo que hay que encontrar el mecanismo y estar cerca del pueblo porque cuando el pueblo te respalda no hay ahí el El poder legislativo sede si es que el pueblo está contigo si es que el pueblo respalda tus políticas y el pueblo y se maneja un gobierno ciudadano Un gobierno abierto a las preferencias de las personas de esa manera creo que vamos a lograr el empuje suficiente y cambiar al país en corto tiempo Muchas gracias señor candidato esta pregunta viene de la siguiente manera cómo va a lograr atraer empresas extranjeras las cual busquen fusionarse y fomentar la expansión de las empresas locales sí hay que proteger la producción nacional y hay que buscar es cooperaciones la inversión extranjera vendrá si es que hay un ambiente de seguridad física y jurídica y si es que hay los elementos de competitividad si nosotros logramos tener ese marco correcto la inversión va a venir no podemos seguir tampoco poniendo trabas para el desarrollo del país los mandos medios en muchos ministerios en los últimos tres años han bloqueado proyectos enormes de inversión y tener siempre en mente que tengo que gobernar para todo el Ecuador Es algo que lo ha hablado con con organizaciones lo hablado también con con grupos este indígenas con grupos afros con grupos montubios en el cual tengo que gobernar para todo un país tengo que gobernar para el joven de cerro las cabras en Durán que no tiene agua potable y que no tiene un empleo Asimismo como la mujer en Puerto Arturo en chone Así mismo como comunidades en Zamora chinchipe que viven de la minería Entonces tenemos que tener un un sentimiento de país y un sentimiento de distribución de beneficios para todos por igual ahora damos paso a la última pregunta cómo va a lograr mantener un equilibrio entre los ingresos y gastos públicos ya que se ha visto una brecha muy grande en este ámbito Sí primero diferenciar correctamente gasto de inversión punto uno punto dos con un fenómeno del niño va a ser prácticamente imposible reducir el gasto público lo que podemos hacer y trabajar incansablemente de subir los ingresos públicos pero en una en un pues este problema climático como va a ser el fenómeno del niño reducir el gasto público va a ser prácticamente imposible lo que podemos reducir es la corrupción por ejemplo cuando hablaba de las comisiones por exportación de crudo las comisiones por importación de combustibles ahí hay 500 millones de dólares al año todo el dinero también que ha sido incautado por actos delictivos o por actos criminales también usarlo para el beneficio social usarlo para darle educación a jóvenes usarlo para darle salud a muchas personas que hoy en día no tienen Entonces poco eliminar corrupción redistribución de ese dinero pero hay que ser realistas reducir el gasto en número de dólares va a ser difícil lo que se podrá reducir es el porcentaje ya que tendremos una mayor cantidad de ingresos Bueno ahora damos paso a un momento para que usted exprese libremente su campaña política Si desea contarnos algo a los jóvenes de la universidad bueno primero primero que nada agradecerles agradecerles por por tenerme aquí creo que es estamos viviendo un momento crítico un momento histórico en el Ecuador y los jóvenes como ustedes van a determinar el presente y el futuro del Ecuador muchas mujeres también van a ser el factor determinante para el futuro del Ecuador no jugamos no nos estamos jugando 17 meses nos estamos jugando la democracia nos estamos jugando también décadas de Progreso y nos estamos jugando un tiempo clave en el cual Ecuador Cómo nación puede ser líder regional y ustedes pueden hacer historia pueden tener el primer presidente de 35 años elegidos en la historia de latinoamérica desde democráticamente elegido nuestro proyecto empezó a hacer tres años en la Libertad en Santa Elena éramos tres cuatro personas por ahí había un perro y un chivo a una cuadra eso era el proyecto político y hoy en día somos una fuerza digo somos porque es un proyecto lleno de juventud es un proyecto lleno de optimismo y de fuerza y por la fuerza que ustedes han tenido y por la valentía que ustedes han tenido me puedo parar aquí al frente y decir que estoy en una segunda vuelta haciendo candidato a la presidencia y capaz en tres semanas con su apoyo sea su presidente de la república Muchas Bueno chicos Esperamos que este conversatorio con el candidato Daniel haya sido enriquecedor para ustedes además de compartir un momento para conocer sobre las propuestas del mismo le queremos dar las gracias a nombre del movimiento líder de haber aceptado la invitación a venir a la universidad y Esperamos que le vaya de lo mejor en las próximas elecciones Muchas gracias pero creo que no sé si tienes que citar el edificio de aulas con el nombre del movimiento libre de haber aceptado la invitación a venir a la universidad y Esperamos que le vaya de lo mejor Muchas gracias Y si desean salir de manera ordenada y rápido ahora daremos paso a las preguntas por parte de los profesores de la uid y a continuación las preguntas por parte del público Mi nombre es Alejandro Suárez soy docente de la escuela de relaciones internacionales de la universidad Internacional del Ecuador y director de la academia diplomática ante todo señor Novoa felicitaciones por su Claridad su precisión y sus respuestas yo quisiera nada más hacer un comentario sobre algo que me parece fundamental y que creo que es una de las tareas que se deberían desarrollar en el gobierno que muchos Esperamos que sea el suyo es el tema de la institucionalidad desafortunadamente Un gobierno anterior el gobierno de la Revolución ciudadana lastimó gravemente la institucionalidad del país y entre las víctimas estuvieron fuerzas armadas y servicio exterior las relaciones internacionales en el Ministerio de relaciones exteriores desde el año 2018 se ha hecho un esfuerzo por restaurar la institucionalidad por recomponer la estructura del Ministerio de relaciones exteriores por recomponer la estructura del servicio exterior para desarrollar una política exterior coherente válida se han hecho digo esfuerzos desde el 2018 se han logrado avances pero todavía hay que hacer todavía hay mucho que hacer Estamos seguros señor Novoa que en su gobierno la institucionalidad la restauración de la institucionalidad va a ser también una prioridad y concretamente en el tema de las relaciones internacionales la política internacional una política internacional coherente digna ajustada a los verdaderos intereses del Estado una política internacional auténticamente de estado y no una política internacional al servicio de intereses extraños de una ideología ajena a los intereses a los valores que tiene el país eso creo que es fundamental fundamental para la recuperación de la dignidad de la política Internacional del Ecuador la credibilidad de la política Internacional del Ecuador temas como la integración temas como la preservación de la paz temas como la actuación del Ecuador en el Consejo de Seguridad temas como la defensa de los principios básicos del derecho internacional nada más dice comentario señor y mis Felicitaciones nuevamente Bueno este primero estoy 100% de acuerdo con usted y vamos a trabajar para eso Gabriela sommerfel será nuestra canciller y estamos trabajando con por el bien del Ecuador más que más que cualquier agenda ideológica por los principios Ecuatorianos por el respeto a instituciones como las fuerzas armadas respeto también al cuerpo diplomático muchos de ellos que lleva 20 30 años trabajando por el bienestar del país y que fue digamos golpeado por gobiernos pasados el país tiene que estar con total apertura a inversión y progreso y estar completamente cerrado a la delincuencia del crimen organizado esa va a ser mi política y y vamos a tener mano dura con los grupos que tenemos que tener mano dura porque al final del día los los buenos somos más la gente que cumple la ley somos más y la gente que busca la paz somos más Hola Daniel buenas tardes Ya buenos días Todavía Soy Arturo moscoso director de la escuela de relaciones internacionales de aquí de la universidad mis chicos son los que están haciendo un poco de relajo ahí en la puerta porque no podía no pudieron entrar lo cual me llena de orgullo la verdad porque enseña su compromiso con la democracia y con intentar ver lo que propone un candidato como tú Mi pregunta es tú en algún momento hablaste durante tu campaña de la posibilidad de llamar a una consulta popular luego de triunfar en las elecciones yo quisiera saber si es que eso sigue en pie Y qué es lo que vas a qué es lo que vas a consultarnos a los Ecuatorianos en esa en esa consulta popular gracias sí la la consulta es el mecanismo democrático más ágil para poder hacer cambios profundos con una asamblea compleja no voy a decir difícil sino compleja es más difícil hacer reformas constitucionales necesitas 92 votos Pero cuál es nuestro plan en los primeros cuatro meses es una ley económica urgente cada mes y una consulta a los 100 días de gobierno en esa consulta habrán de entre 12 y 14 preguntas enfocados en tres puntos el proceso de accionar de las fuerzas armadas en la lucha contra el narcoterrorismo y la inseguridad del país punto uno punto dos reforma judiciales profundas como el sistema de jurados para casos de corrupción y de crimen organizado eso es la parte de reforma judiciales y también medidas de generación de empleo medidas profundas para que el estado pueda tener mayor cantidad de ingresos a base de inversión a base de generación de riqueza de parte del sector privado y también que podamos de nuevo tener un sistema que premia al que hace las cosas bien y que castigue duramente el que las hace mal Esos son los tres ejes principales por por matemáticas simples serán Entre cuatro y cinco preguntas por Eje y no será una consulta larguísima pero será una consulta entre 12 y 14 preguntas en temas claves en temas claves que por medio de la asamblea no quiero ni intentar porque pues puede ser que hasta lo quieran trabar Y tenemos 17 meses entonces quiero tener un gobierno bien efectivo y pragmático y en cuatro meses ya tener algo de resultados chicos por favor dos personas que quieren hacer la pregunta buenos días Todavía con todos Mi nombre es Michael Murphy estudiante de la escuela de relaciones internacionales primero Quiero agradecer por la apertura del espacio ya que se había monopolizado un poco las preguntas y segundo segundo en un ejercicio de apersonarme de esta responsabilidad democrática que es compartida por todos nosotros yo he leído su plan de gobierno y encuentro dos dudas que para mí son fundamentales Y esperaría que me la resuelva la primera es que como siendo políticamente correcto todos estamos a favor del fortalecimiento y el mantenimiento de la dolarización pero encuentro una pequeña inconsistencia en su postura a favor de la eliminación del impuesto a la salida de Divisas entendiendo que esto volvería al Ecuador una posible víctima por ejemplo de capitales golondrina de fugas de capitales algo que atenta en contra de la dolarización entendiendo que la dolarización solo se puede fortalecer si es que tenemos dólares en el país y eliminando la Barrera para sacar a estos dólares del país lo que eliminamos desde el circulante Entonces se un poco contradictorio Ese es mi primera pregunta y quisiera saber cómo podría equiparar estas dos visiones que tiene y la segunda es respecto a la evasión tributaria citando tal cual su plan de gobierno habla de una persecución a los devasores tributarios algo que es totalmente plausible todos debemos cumplir con las obligaciones que tenemos para con el estado y mucho más entendiendo que son esos esos ingresos los que posibilita una presencia efectiva del Estado principalmente para las poblaciones más vulnerables Mi pregunta es si en su calidad de presidente cumplirá a cabalidad con esa palabra entendiendo que el grupo noboa es del primer evasor del Ecuador respetando Obviamente que usted no tiene la personería jurídica de este grupo pero tiene los lazos de consanguinidad Con quienes sí lo tiene muchas gracias primero evasión es un delito lo que está diciendo es que es un grupo que está cometiendo un delito activamente que no está comprobado empecemos por ahí así que le recomiendo nomás este que maneje la formas en ese sentido segundo la correcta tributación y un sistema tributario sistemático en el cual impida que funcionarios públicos sean los que determinen es la mayor muestra de que va a haber una persecución elevación si es que no dependen de un funcionario sino de un sistema el cual está ligado a la Constitución de la ley todo va a ser mucho más transparente en la parte de la dolarización creo que hay un error en esa lógica ya hoy en día vivimos en un estado de capital golondrina Cómo en estos últimos dos años hubo un decreto ejecutivo le pediría que lo busque de parte del gobierno actual en el cual los micrófonos en el cual cualquier capital golondrina que entre a este país en inversión a plazo de 180 días o más en la reposición no pagan impuesto de salida de Divisas ni paga impuesto a la renta Entonces eso ya existe el isd no lo bloquea 1600 millones de dólares entraron a este país en el 2022 Qué ocurrió en el 2022 con el mismo capital golondrina en el cual no se pagaba isd ni impuesto la renta los 1600 millones de dólares entraron dieron vuelta y salieron y fue el año en el que se cerraron 40,000 empresas de 184,000 fue el récord de muertes violentas también en el Ecuador y al mismo tiempo al mismo tiempo fue el mejor año histórico de la banca la banca hizo 180 millones de dólares más de utilidad en el 2022 que en el 2021 que había sido el mejor año de la historia de la banca entonces basado en los números no es así el isd no impide el capital golondrina qué es lo que sí impide el isd que venga HSBC Banco América fondos de pensiones capital de riesgo Venture que vengan acá al Ecuador inviertan o presten dinero a un interés más bajo que es la banca nacional y en la reposición de ese capital fresco que entra no paga el impuesto de salida de Divisas si es que hoy en día debió la inflación mundial la tasa promedio en los Estados Unidos está entre El seis y el 7% más el tres coma cinco de impuesto de salida de Divisas estás hablando del ningún banco quiere venir hacer eso y se mantiene la misma estructura de la banca nacional que rompe récords todos los años en utilidad entonces pasémonos en números reales el mismo año en el cual el isd no se lo tocó Por qué Por qué ese capital de inversión capital de riesgo que entra después de los 365 días en el cual fue la mayoría de la inversión no paga isd y no paga impuesto a la renta es la el capital golondrina perfecto con isd 1600 millones de dólares 1600 millones de dólares qué es lo que ha pasado en el Ecuador con el isd con el mismo isd se han cerrado la mayor cantidad de empresas desde la vuelta a la democracia han habido la mayor cantidad de muertes violentas y ha sido el mejor año de la banca entonces hay que reflexionar un poco de Qué medidas pueden generar Progreso Qué medidas pueden generar empleo eso es como digo de tarea para que lo vea toda esa información mil seiscientos millones de dólares fue solo en el 2022 en el 2023 hay aún más y otro otra cosa yo no lo voy a acusar jamás a alguien que quiera debatir una idea pero durante un debate no es ni correcto ni positivo calumniar a una persona que ha cometido un delito Buenos días señor Novoa yo tengo una pregunta conforme a lo que es de salud pública con la desnutrición Cuál es su plan de acción para disminuir la desnutrición Crónica en el Ecuador y Cuál es la diferencia o qué le diferencia de los otros candidatos que sí se va a lograr que bajemos del tercer lugar con mayor país en Latinoamérica de desnutrición y para fomentar aquel infancia tenga un mejor desarrollo si lo más importante son los primeros mil días y los mil días empiezan el periodo de gestación mucha gente cree que los primeros mil días empiezan desde que un bebé nace pero ya en el periodo de gestación existe está la formación del cerebro está la formación de de la capacidad cognitiva inclusive de la persona entonces Cuáles son las medidas del acompañamiento humano en nuestro plan social primero el bono el periodo de gestación el cual son 60 dólares a las personas que están embarazadas porque porque de acuerdo a varios estudios que tenemos la prioridad debido al mismo cambio hormonal en el cuerpo de una mujer la prioridad en más del 90% de los casos cuando una mujer está embarazada es alimentarse para alimentar a su bebé cambia la composición hormonal y química de las mujeres para bien entonces cuidar desde ahí de ahí los primeros dos años que son claves está nuestro sistema Nacional de guarderías lo tenía el mies no fue efectivo el mies en hacerlo debemos de tener un sistema de guarderías en el cual esté cerca o parte de los centros de salud y sus centros de salud Por qué Porque muchos niños pueden tener una infección o pueden estar enfermos o con delicados y si es que no tienen una atención médica inmediata se ponga hasta morir en manos del mismo estado una responsabilidad está bajo el cuidado del Estado Entonces el Sistema Nacional de guarderías que nosotros proponemos es primero para darle oportunidad a mucha madre mucha madre soltera que hoy en día quiere salir a trabajar No puede salir a trabajar porque pues no tiene dónde dejar a su niño y con atención pediátrica gratuita y alimentación gratuita de lunes a viernes podemos atender ya la nutrición y el cuidado médico de ese niño en los primeros dos años pasado ese periodo es volver a un sistema que antes se lo hacía pero nunca funcionó completamente es el desayuno y el almuerzo escolar pero no inventarnos el menú sino basarnos en el mismo índice nutricional que recomienda las Naciones Unidas Pero aterrizarlo a cada una de las provincias por qué hablo de cada una de las provincias porque hoy en día el sistema de contratación del desayuno y almuerzo escolar está centralizado hay yo estado en dos escuelas del milenio en los últimos dos meses había un pan viejo y una bebida azucarada que decían que era jugo le da la vuelta y era producto a Colombia daban leche dos veces a la semana Entonces siguiendo las mismas instrucciones de las Naciones Unidas que se que haríamos comprando a las asociaciones la economía popular solidaria y pequeños productores el alimento fomentaríamos la agricultura local estaríamos trabajo esos padres y alimentaríamos a los niños no todas las provincias son iguales en su posibilidad de conseguir ciertos productos el menú en Santa Elena va a ser diferente que el menú en pichincha el de esmeraldas va a ser diferente al de Zamora chinchipe pero cada provincia comprando el producto provincial vamos a poder emplear a esos padres y dar de comer a los niños que un programa que se vuelve que antes era un gasto neto del Estado volverlo un programa de inyección e inversión para la agricultura fomentar el empleo y al mismo tiempo tener la nutrición adecuada para los niños de inyección aló aló Bueno chicos Muchas gracias el evento ya ha culminado y por favor para que vayan saliendo ordenadamente gracias\n",
      "Metadatos: {'candidato': 'Daniel Noboa', 'descripcion': 'El conversatorio abordó temas clave como democracia y participación ciudadana, destacando la importancia del voto informado y la necesidad de fortalecer la institucionalidad. En seguridad, se discutieron la sobrepoblación carcelaria, el uso de cárceles barcazas, la reforma del SNAI y la implementación del plan Fénix con tecnología e inteligencia. En economía y empleo, se planteó la creación de empleo de calidad, el impulso a sectores estratégicos como la industria 4.0 y la infraestructura, la atracción de inversión extranjera, la competitividad, la reducción de costos en electricidad y combustibles, y la diferenciación entre gasto e inversión. Se trataron temas sociales como la desnutrición crónica, la deuda del IESS, la tasa de natalidad, la implementación de un sistema nacional de guarderías y el fortalecimiento de la economía popular solidaria en programas de alimentación. En el ámbito legal y administrativo, se discutieron auditorías a empresas públicas, la eliminación de la Senescyt y la simplificación del sistema judicial. En finanzas, se abordó la protección de la dolarización, el uso de reservas en casos extremos, la eliminación del ISD y el control de la evasión tributaria. Finalmente, se resaltó la importancia de la consulta popular, el gobierno ciudadano y las relaciones internacionales basadas en el respeto y la empatía.', 'temas_tratados': 'Gobierno y Política; La democracia y sus desafíos; El rol del voto informado en la juventud; La necesidad de mejorar la democracia; La importancia de la institucionalidad y su restauración; El plan de gobierno y la posibilidad de una consulta popular; Relaciones internacionales con Colombia y Venezuela; La importancia de gobernar para todo el Ecuador; La necesidad de un gobierno ciudadano. Sistema Penitenciario y Seguridad; La sobrepoblación carcelaria y segmentación de presos; Uso de cárceles barcazas para criminales violentos; Reforma del SNAI y cambio de personal; Implementación de penas alternativas para delitos no violentos; Seguridad como derecho fundamental; El plan Fénix y el uso de tecnología e inteligencia; Mano dura contra la delincuencia y crimen organizado; Anticipación del crimen. Economía y Empleo; Creación de empleo de calidad; Promoción de la industria 4.0 y energías renovables; Creación de zonas francas verticales para el sector tecnológico; Impulso de proyectos hidroeléctricos; Reforma judicial y procesal para garantizar juicios rápidos; Equilibrio entre tecnología y sostenibilidad ecológica; Sistema tributario que premie la contratación; Sectores estratégicos como infraestructura, ganadería, café y cacao; Atracción de inversión extranjera con seguridad jurídica; Competitividad y control de la inflación; Reducción de costos en electricidad y combustibles; Protección de la producción nacional; Diferenciación entre gasto e inversión; Aumento de ingresos públicos. Temas Sociales; Tasa de natalidad y envejecimiento poblacional; Generación de oportunidades para jóvenes; Deuda del IESS y estrategias para cancelarla; Control del ingreso de migrantes y reducción de plazos de visas; Reducción de la desnutrición crónica; Atención en los primeros mil días de vida; Creación de un sistema nacional de guarderías con atención pediátrica gratuita; Acompañamiento humano en programas sociales; Bono durante el periodo de gestación; Alimentación escolar basada en el índice nutricional de la ONU; Inclusión de la economía popular solidaria en programas de alimentación. Temas Legales y Administrativos; Auditorías a compañías públicas y control de funcionarios; Eliminación de la Senescyt y absorción de sus funciones por el Ministerio de Educación; Reforma judicial enfocada en celeridad procesal; Simplificación del sistema judicial para mayor seguridad. Finanzas; Uso de las reservas en casos extremos; Protección de la dolarización y manejo de la deuda externa; Eliminación del impuesto a la salida de divisas (ISD); Control de la evasión tributaria.'}\n",
      "\n",
      "Resultado 3\n",
      "ID: WGE001\n",
      "Contenido: Yo vengo trabajando para muchos presidentes he tenido la oportunidad de servir desde el voluntariado y mi experiencia en emergencias me dice hoy más que nunca si no nos comprometemos a un cambio real por el país probablemente para el 2029 no tengamos un país como lo conocemos hoy y Esto hace que de un paso al frente en un principio acompañando a j a el proceso donde él era el candidato eh pero pues las circunstancias se dieron de una forma tal que cuando ocurrió y había que decidir dar un paso al frente no fui solo yo fuimos más de 600 voluntarios quienes dijimos queremos dar ese paso al frente para poder cambiar el país para poderlo transformar de la forma en la que queremos ahora el momento de esta conformación porque claro la candidatura final todo una candidatura auspiciada por zma tenía en la cabeza tenía su presidencia cuando hay este tema de topic que más allá de su interpretación tiene que seguir la contienda Se generó un conflicto con el tema de Michel calach tanto s que no se la ratificó en su candidatura Cómo se conformó equipo cuando usted llega Cómo se conformó Porque me dijo que eran 60000 voluntarios que se postularon o que aplicaron para eh salir al frente eh Cómo usted conformó O cómo Se generó este esta conformación del del Binomio con con su vicepresidenta y también qué tanto cercanía tiene usted conociendo el contexto actual del las distancias entre presidente y la vicepresidenta en su caso Cómo se lo ha trabajado Claro que sí a ver eh No hubo ningún conflicto partamos de la premisa eso hoy Yo creo que hubo una confusión de parte de ella al ver de que como había que reemplazarlo el dictamen era claro había que reemplazar a Jan topic como candidato y es a partir de eso que era el Binomio continuaba Bajo la misma figura Donde había que reemplazar al candidato esto además lo ratificó el CN el día que se inscribió la candidatura quizás eh de manera mal interpretada o mal asesorada se dio la otra figura Y es ahí cuando se postularon 600 hombres porque la figura era reemplazar a yang partiendo esa premisa eh se hizo todo el proceso de selección para llegar a una persona el día en que íbamos a inscribir la candidatura eh antes de que se de la la inscripción ella procede a renunciar y en ese momento habían varias personas con las cuales podíamos participar y yo pedí reunirme con ellas es decir reunirme con las potenciales candidatas a vicepresidentas y de todas estas opciones Inés tenía muchas cualidades que eran innegables la primera es que ella venía siendo parte activa de suma por 12 años la segunda tenía mucha experiencia en el ámbito público y en su recorrido para dar soluciones a las poblaciones con las cuales venía trabajando ella venía trabajando con poblaciones en condiciones vulnerables ella venía trabajando con grupos de mujeres y ella venía trabajando con una gran comunidad indígena Entonces ya había un recorrido y a la hora de definir cómo hacerlo como trabajar el Ecuador para poder llegar a lo que es Nuestro objetivo fue justamente la persona con la cual más nos acoplamos independiente a su perfil profesional hay que reconocer que su perfil personal fue importante es decir eh en la conversación yo creo que abrimos el espacio ya no solamente al perfil personal sino también bien al cómo queremos juntos lograr los objetivos y estamos convencidos de que necesitamos un nuevo país es eso Por lo cual fue ella la persona con la que terminamos registrando es decir usted la conoció en ese momento yo la conocí en ese momento exactamente yo la conocí en el proceso efectivamente no la conoces en mucho tiempo usted confía en ella no la conozco hace mucho tiempo pero tú puedes ver a las personas y saber desde un principio si baj o no confiar el contexto actual tenemos dos vicepresidentas lo que se dice en toda esa disputa conando Entonces nos pregun un poco esta relación con los pomos en mi caso tengo la oportunidad de poder decir conocí a Inés ese día y a partir del proceso que ya llevamos hoy un poco más de un mes creo que es una persona o es la persona indicada para poder llegar a asumir no solamente el mandato el 24 de mayo sino la transformación que queremos para el país es es la persona ahora eh usted decía que hubo 600 como candidatos a su puesto Cómo fue ese proceso de selección y cuál es su relación con jant topic desde cuá lo conoces una relación de amistad de trabajo a ver el proceso fue superrápido definitivamente había una semana donde se creó un link para poder inscribirse las personas que querían participar a partir de eso eh empezó ya un modelo de filtros donde las personas que se inscribieron se redujeron a las personas que pasaron a una elección eh interna hubieron varios distancias y tú habían grupos de 20 personas de la a hasta la hasta hasta alguna de las letras creo que era la la i probablemente habían habían ya un primer filtro a partir de eso cada persona pasaba un grupo finalmente quedaron un número de personas de las cuales nuevamente se aplicó un filtro y llegamos a un debate el debate se dio justamente por seis personas esas seis personas eh presentamos Cómo íbamos a ejecutar Cómo íbamos a a trabajar los diferentes problemáticas del país y con eso finalmente hubo una última selección donde quedamos tres personas pasamos a una entrevista personal No solo con Jan en ese momento sino con su equipo de trabajo y con los asambleístas entonces a partir de eso ya se dio luego de manera oficial El el nombramiento y pues asistimos a Quito para registrar la candidatura y su relación con mi relación con j empieza en el 2018 donde Pues nos encontrábamos básicamente dando un examen para para ser instructores él en cuanto a seguridad física Yo en cuanto a seguridad integral Ya teníamos el antecedente de que bueno teníamos en común yo Amara como amiga é Amara como hermana y un poco fue como Ah Mira me encontré con tu ñaño Y empezamos Y empezamos a conversar Pero de alguna manera lo que veíamos a partir de Esto fue esa problemática de de un ecuador que necesitaba ser resuelto es decir yo tenía la experiencia de ver proyectos de gestión de riesgos de ver cómo las ciudades iban eh moviéndose a la hora de de de resolver problemas finalmente yo entro al 911 allá en el 2020 eh Y nos encontramos con yang nuevamente para ver de qué manera podíamos usar más tecnología para reducir eh problemas del país y nada fue fue un poco como como interactuando una suerte de de Buscar soluciones a los problemas actuales y finalmente Pues en algún momento le dije Oye tú deberías ser una de las personas que lider el país y finalmente Pues fue candidato La primera vez todo empezó con el el él se acuerda siempre de una reunión en la oficina y y luego nada fue candidato Acompañé ese primer proceso me me dispararon Ese fue el proceso en el cual me me robaron buen me intentaron robar porque me dispararon realmente y y nada pues continuar con el proceso ahora hasta el punto en el que Hemos llegado ahora eso también le quería consultar Porque si bien la candidatura de Top tanto el anterior como la actual era algo que estaba marcada o sea tenía su bandera de luchas tenía sus Horizontes tenía al menos eso es lo que se proyectaba eh Cuando usted ocupa este lugar le pregunto qué tanto hay del plan de gobierno Wilson Gómez O sea qué tanto tópica en ese plan de gobierno qué tanto usted tuvo participación qué tanto Se elaboró qué tanto se tuvo que consultar qué tanto se tuvo que armar con topic y también Cuál es su su bandera la la de topic o sea puntualmente era la seguridad usted para dónde apunta porque lo escucho Que nos menciona de cambiar el Ecuador de mejorar el país Okay pero En qué línea principalmente es la que usted tiene el mayor yo he hecho referencia a el primer año lo hemos definido como el rescate tenemos que rescatar Ecuador de donde está hoy y del segundo al cuarto año tenemos que transformarlo esa es la primera definición la segunda es el plan continúa siendo exactamente el mismo el documento el plan de gobierno no es un plan que se sentó ya en escribirlo es un plan que se trabajó en conjunto con personas con expertos en cada una de las áreas buscando siempre aterrizar las buenas ideas y todo lo que incluye tecnología para reducir espacio a que puedan existir criterios se abrió luego la oportunidad de empatar eso con personas que tengan experiencia en lo público para evitar problemas como los que tuvo Guillermo lazo Cuando entró a la presidencia o o la suerte de de encontrarse con la inexperiencia hoy que tenemos actualmente sino de decir Okay cómo todas estas buenas intenciones las puedo implementar de manera rápida y objetiva para cambiar el país nuestro plan es rescatamos al Ecuador Ahí hablamos de seguridad hablamos de empleo hablamos de salud y hablamos de Educación y luego vamos a transformación en la parte de transformación el empleo pasa a abrirse hacia múltiples Campos donde ya incluye formaciones técnicas para profesionales que puedan desarrollar o brindar servicios agregados a la industria en el momento en el que Ecuador se defina como un país cuyas tareas son tales todo alrededor de esa industria genera trabajo genera empleo y Esto hace que deje de ser el estado el principal vamos dador de empleo hoy muchas personas quieren trabajar para el Estado porque es el estado el que te da empleo acá Tiene que cambiar la balanza en el momento en el que deja de ser el estado el principal empleador creas una suerte de que o existen emprendimientos atendiendo industrias o existen industrias más grandes esto reduce el presupuesto general del estado en cuanto al gasto corriente sueldos Pero por otro lado Crea una suerte de que las empresas privadas puedan generar más recursos estos recursos pagan impuestos y el estado se dedica a lo que debería dedicarse siempre que es garantizar un buen Ecuador una buena vida a los Ecuatorianos Y ese es el foco principal de poder hacer ese paso luego tenemos que garantizar seguridad jurídica tenemos que garantizar seguridad política porque con esto pueden venir primero inversionistas segundo organismos internacionales que quieran financiar y acompañar el proceso del desarrollo del Ecuador y esto aumentaría el impacto en el producto interno bruto hoy los fondos internacionales están por debajo del 0,5 por. si lo comparamos con Colombia Si lo comparamos con Perú son las garantías que dan estos países las instituciones sólidas de estos países las que permiten que vengan los organismos internacionales y aporten para poder desarrollar ese país esto tiene que cambiar en Ecuador ahora el punto de seguridad como mencionaba Miguel Cuál cuál va a ser como la propuesta teniendo en cuenta que hace unas semanas se catalogaba Ecuador como una estado A ver eh el Ecuador tiene que tener un mayor control y ahí nos vamos a tres partes la primera lo hemos definido como la seguridad en las fronteras donde tenemos que incrementar el número de bases militares ecuatorianas que puedan monitorear lo que está pasando con ayuda de drones de larga distancia para un monitoreo permanente esto nos va a permitir saber quién está entrando al país qué está entrando y Cómo podemos manejar mejor esos recursos esa es como la primera parte un adecuado control fronterizo esto aquí se empata con una aplicación estricta de tecnología en las ciudades para saber qué está pasando cómo se está moviendo la delincuencia organizada Cómo se está moviendo el tráfico de drogas en los sectores y buscando reducir la cercanía de estos grupos con Los menores para que los menores puedan ir a escuela de manera segura Esto va al último espacio de Esa primera línea y es fortalecer a las familias fortalecer a los barrios fortalecer a las comunidades para que puedan vivir mejor y adecuadamente para que ellos puedan estar alerta a lo que está pasando al entorno pero sobre todo con cada uno de sus menores la segunda parte viene eh en garantizar una adecuada justicia donde tenemos que fortalecer a Policía Nacional fuerzas armadas con tecnología para poder monitorear mejor pero luego a fiscalía y a jueces para poder dar mejor sentencias y sentencias que sean claras en el cumplimiento de sobre todo la garantía de seguridad para los Ecuatorianos y en la tercera fase abrimos el Ecuador justamente a un modelo donde podamos participar todos los Ecuatorianos donde cada ecuatoriano pueda ver lo que está pasando y pueda participar activamente en cuanto a propuestas de cambio y Estos son proyectos sociales en los cuales se van fortaleciendo y vas reduciendo el espacio mientras tú aumentas lo que ha hecho en diferentes momentos los clubes rotarios el club de Leones aumenta una propuesta de paz va reduciendo la cantidad de jóvenes que se vinculan a esos grupos se vinculan por temas de empleo se vinculan por necesidad de recursos tenemos que reducir ese espacio son muchos factores Pero cuál sería su prioridad o sea usted nos ha detallado como un plan Macro que seguramente está establecido en 4 años pero por ejemplo tenemos una bba de tiempo que son las cárceles hay militares policías ahí sin embargo p esa cencia igual están comunicados igual hay matanzas en la peniten electoral en este año cuál sería su prioridad en seguridad eh la prioridad en la seguridad es el foco de que los Ecuatorianos puedan vivir seguros porque un ecuatoriano seguro va a poder trabajar tranquilo va a poderse mover entrar y salir de su casa sin pagar vacunas va a poder estar y desarrollar empleo empresa y con ese foco poder atender luego las implementaciones en cuanto a las estrategias va lo que es decíamos el control de fronteras el control de ciudades y el control penitenciario entonces más bien sería aterrizar a que el ecuatoriano pueda vivir seguro ahora también le vo a consultar usted no mencionó en su en su experiencia que tenía dentro del campo profesional un paso por el eco1 y rizando también estuvo en otras entidades del estado eh esa experiencia qué Qué tipo de problemáticas le permitió identificar porque una cosa es lo que el ciudadano puede percibir o puede notar desde afuera pero dentro de la estructura del estado Cuáles son las falencias que usted o más que falencias Cuáles son las aristas que se identificó en su momento que se puede ir mejorando porque el tema de seguridad si bien es algo que se puede trabajar es algo que a lo mejor desde afuera ya lo puedes ir midiendo que fue lo que se se hizo trabajando desde la candidatura ahora puntualmente en temas de telecomunicaciones por ejemplo temas de Seguridad Ciudadana eh otros tipos de de actividades que le pertenecen ya al Estado Cuáles son las que usted pudo identificar dentro de su pasos por la gestión pública a ver lo primero es que existe una necesidad de hacer que los procesos de lo público pasen más rápido esto eh después de haber tenido experiencia en varias carteras de estado tú ves que eh cada decisión entre que se toma una decisión y se implementa pasa mucho tiempo Esto es algo que necesitamos acelerarlo y para esto implica un arreglar procesos definir procesos que sean más rápido y que se ejecuten de manera rápida pero luego también las personas necesitamos capacitar y fortalecer a las personas en el cumplimiento de sus tareas específicas eh Muchas personas hoy siguen siendo contratadas o por favores políticos o por o por acompañamiento de campaña tú necesitas profesionales que garanticen el cumplimiento de las tareas en cada uno de los ministerios Y empatas eso luego con que estos procesos que ya se le han reducido el tiempo y que se ha mejorado a las personas tienen que implementarse siempre para beneficio de los ciudadanos en el momento en el que tú enfocas que el la la razón de ser de cada institución pública es atender bien a la ciudadanía tú tienes que atenderlo de manera rápida y con la calidad necesaria ese va a ser un foco que definitivamente nos han quedado pendiente de mejorar estas dos últimas administraciones por entiendo el desconocimiento de lo público pero este desconocimiento también y usted mencionó un punto clave que son las personas y también mencionó de que una de la referencia y y fue notorio tanto de la Administración actual como la anterior que al momento deum mir el mando no tenían personas que le respondan o que le puedan dirigir tales sectores y Y eso ocurre si bien es complicado también convencer a un profesional externo un profesional que tiene trayectoria en determinado campo que deje su actividad profesional para dedicarse al sector público Cómo se trabajó o cómo se viene trabajando en la conformación de estos equipos a lo mejor no me puede decir nombres o a lo mejor no hay nombres todavía pero Cuáles son los que Cuáles son las áreas que ya se tienen fijadas A lo mejor invento top que está en seguridad por ejemplo o cómo se tiene trabajado estas aristas desde ahora con personas que vayan a responder Así es su plan cuando se hizo la convocatoria para desarrollar el plan de gobierno la intención era poder aterrizar cada área de especialidad con profesionales que tengan experiencia eh Y cuando digo profesionales que tengan experiencia no hablo de nombres conocidos que los hemos visto siempre no hemos hablado e interactuado con personas de todas las edades con jóvenes con propuestas nuevas buscando atender de mejor manera cada una de las líneas del estado y eso lo estamos empatando con algo que se llama una convocatoria rescatistas cuando hablamos de una convocatoria rescatistas hemos definido ese espacio como una apertura de un llamado nacional a jóvenes adultos a Ecuatorianos que quieran comprometerse con un ecuador distinto desde cada una de sus áreas es decir si alguien quiere implementar proyectos en cuanto a educación en cuanto a salud en cuanto a tecnología en cuanto a seguridad ver qué de lo que quieren proponer empata con el plan de gobierno y empata sobre todo con las necesidades de los Ecuatorianos en el momento en el que tú logras tener esos tres puntos tú vas siempre a tener el foco atento a resolver el problema de los Ecuatorianos Ese es el equipo que estamos Armando tenemos mucha gente y por eso ayer en un video le ofrecí al presidente Nova de que se necesitaba profesionales en el área de energía eléctrica también lo podemos ayudar porque ya se lo hemos dicho se lo dijo ya en su momento Y hoy pues las situaciones siguen siendo las mismas volviendo al equipo que qu cargo ocuparía sería su consejero Qué figura dentro de la figura que está establecida tú tienes eh los secretarios de Presidencia hay una secretaría que se llamaba la Secretaría de Seguridad que lideraba el gabinete de seguridad esa sería ese sería el cargo que tendría yaan tópic justamente Yo también tocaba el tema en la entre las mes crisis que que que atraviesa Ecuador la crisis energética ha sido lo que nos ha golpeado los últimos meses con 14 horas de apagones Cuáles serían sus propuestas en ese ámbito si sumamos las horas tenemos un mes sin energía eléctrica un mes afectado a la industria y apagar la industria es apagar la fuente de empleo del país es eso un efecto gravísimo que por unos cuantos votos se está manejando en este momento la energía eléctrica eh como nos han contado el problema solo se ha enfocado en un número 5000 mw pero no se ha considerado en él el rubro que son 5000 mw de los camaroneros y los 1000 mw que consumen los petroleros si el estado pone un foco de atención sobre esos 11,000 mw debe ser consciente de que como tarea del estado es atender a los Ecuatorianos y luego abrir la puerta a que la inversión privada genere la atención a los privados a la industria al comercio y con con esa ganancia le pague al Estado lo necesario para poder garantizar nuevamente la atención adecuada a los Ecuatorianos pero veamos bien de nuevo ese mismo paso el estado atiende a los Ecuatorianos a las personas a la industria al productor al privado lo pueden atender los privados y con Esta generación donde van a ganar donde van a tener un retorno de la inversión pagan impuestos para que el Ecuador pueda de nuevo con esos impuestos garantizar la adecuada atención a los Ecuatorianos ese balance es el que tenemos que tener Luego de eso ahí ya tenemos el balance energético hoy tenemos 80% hidroeléctrica 20% otras energías tenemos plantas que no se les ha dado el mantenimiento adecuado y por tanto han dejado de producir tenemos plantas locales que tienen la capacidad de entregar energía de manera inmediata a la cual el presidente le ha querido quitar los permisos ambientales para que no aparezcan dentro del radar y Buscar contratar estos otros contratos de emergencia que se han lanzado partiendo des esa premisa tenemos que cambiar esa estructura y tener hasta un 48 por de energía termoeléctrica hasta un 35 por de hidroeléctrica y Esa diferencia que va es la que tenemos que balancear entre las otras energías renovables eólica solar y con eso generar un una especie de nuevo balance de nuevo orden de la energía del país esto aquí está enfocado en Cómo se funciona en el mundo entero es decir este modelo no es Ah venimos con la varita mágica y esto es sino que esto es lo que pasa en Europa Esto es lo que pasa en Estados Unidos Esto es lo que pasa en los países desarrollados Ese es el concepto que necesitamos tomar tomar los ejemplos de lo que ya ha funcionado bien y ejecutarlos Pero dentro de este plan lo que se refiere es o sea cuando se refiere a entre comillas reducir a 3% eléctrica no es reducir su capacidad sino que la termoeléctrica aumentarla de tal manera que ya llegue a pesar 48 es así o como a ver eh Tú tienes ya una generación O sea tú hablas de que tienes 5000 mw de los cuales el 80% es decir 40,000 se producen a partir de o 4000 Perdón se generan a partir de forma hidroeléctrica eso tiene que mantenerse lo que tenemos es que aumentar la producción de energía a partir de las otras fuentes a partir de las y crear un balance pero ya no vamos a atender solamente los 5000 mw tenemos que atender los 11000 y en ese momento en el que podamos producir más de 11,000 Ecuador puede pasar a lo que tanto se habla de ser un exportador de energía para para poder exportar necesitas producir más de lo que necesitas Ecuador necesita 11000 mw hoy nos cuentan la historia que necesita 5000 y de los 5000 nos faltan 1600 eso ahí tenemos que ver como la realidad que es 11000 porque los 11000 se consumen cada día y esto las camaroneras tienen que comprar diesel tienen que comprar fuel oil tienen que comprar para poder mantener eso ahí si creas un balance distinto si lo adecúas lo que haces es que el estado se vuelve el que garantiza que todos puedan tener Pero enfocado principalmente en las personas Exacto ahora dentro de dentro de esta dentro de de esta lista también dentro de esta lista también tenía un un un tema fundamental que era el o sea usted nos menciona la posibilidad o la necesidad Mejor dicho de ampliar este este espectro pero ahí viene pasa por dos temas uno que es el tema constitucional o el tema de la politización de la de la energía que que lases se quieren limitar que no debe ser privatizado etcétera que es todo un trámite y segundo también las condiciones climáticas que si bien por ahora momentáneamente son favorables se proyecta que en un corto plazo van a ser adversas es decir que para el siguiente año 6 meses siquiera eh la situación va a estar más o menos crítica de lo de lo que ya estaba actualmente Cómo se puede ir trabajando de esa manera porque pareciera que la única solución que se tiene hasta ahora es de que consume menos energía y nuestro planteamiento no no empata más bien eh lo que decimos es distinto nos están contando de que el consumo Es uno cuando la realidad es que es significativamente superior es más del doble partiendo esa premisa y siendo el estado el que tiene que garantizar a los ciudadanos lo que necesitan lo que tiene que abrir la puerta es para que el privado pueda atender a los otros sectores que no es privatizar porque en el momento en el que el privado atiende a la industria y atiende a los generadores privados lo que tú estás es haciendo que se diferencie el sector al que estás atendiendo a la ciudadanía a los Ecuatorianos a cada uno lo Sigue atendiendo el estado en ese foco tú lo que tienes es que crear ese balance y constitucionalmente hoy como está existía una restricción porque se lo consideraba dentro de un sector estratégico sin embargo ya se habría abierto ya se había abierto el espacio para que los privados puedan insertar justamente la generación en pequeñas capacidades hasta 10 mw esto hay que aumentarlo y esto hay que aumentarlo a razón de poder servir a cada ecuatoriano y a estimular a la industria para que la industria pueda producir desde ese enfoque el Ecuador y los Ecuatorianos vamos a vivir mejor Okay pero y solo para cerrar un poco el tema Al momento de variar la la generación y centrarla en 40 o sea los porcentajes son variables pero me mencionó 48 termoeléctrica 35 hidroeléctrica y la diferencia en otras energías al ser 48 termoeléctrica esto Cómo empata también con los temas de las energías renovables energías verdes y demás más porque se tiende a relacionar que la energía termoeléctrica es comi contaminante y esta esta eh focalización de este tipo de energía A lo mejor cambia un poco con la matriz productiva que se quería eh implementar des desde anteriores gobiernos que era enfocarnos en fuentes de energía renovables o más verdes cuando tú tienes que hasta el 48 por es termoeléctrica tú tienes un 52 por en energías renovables Por tanto la balanza Sigue estando principalmente en energías renovables 5% el 35 en hidroeléctrica no es que se va a disminuir lo que ya genera sino que se mantiene y se puede aumentar Lo importante es que exista justamente Eh Pues en este caso la lluvia para poderlo balancear y el problema que tú tienes en las energías renovables es que no garantizan algo que en energía se llama potencia garantizada si ustedes buscan potencia garantizada es el término con el cual logras garantizar que la demanda sea atendida y sea cubierta lo que nos dicen de la energía térmica como una energía no renovable es porque solamente se habla del diésel o el fuel oil hoy tú tienes generadores que se logran balancear o generar a partir de dos fuentes de de capacidades Y esto es lo más moderno que hay tú tienes fuel oil o búnker por un lado y tienes gas por el el otro generando una eh creación Limpia para poder atender entonces tú tienes hasta el 48 por la parte térmica y en el 52 por abres el espacio de la renovable por tanto lo renovable siempre es una opción y lo renovable tiene que ir para atender a las ciudades a las escuelas a las personas para que puedan tener energía Pero por eso es una suerte de crear un balance un balance diversificar las fuentes Mientras más diversifi las fuentes más vas a atender Claro que sí bien dos un listo listo para ir cambiando de tema eh un tema que no queremos dejar de abordar es que ese año también habido una ola migratoria sobre todo esto llamado juga de cerebros de jóvenes que migran a su país para buscar una mejor calidad de vida cómo usted va a frenar esto y cómo va a generar empleo en Ecuador sobre todo en est sema de la población que actualmente se enfrenta a varios eh varios factores Sí claro claro que sí eh el número hoy público es de 1,2 millones de personas con intención de migrar dicen que ese número eh puede llegar hasta 1,8 millones de personas en el momento en el que se van tantas personas en el momento en el que se van tantos jóvenes tantos Ecuatorianos tú te quedas sin cerebros sin mano de obra capacitada y Esto hace que la mano de obra se vuelva más cara Entonces esto es un problema en el momento en el que abrimos Ecuador ascia exporta ort aciones hacia mercados internacionales Ecuador deja de ser un país que atiende a 17 millones de personas Pero puedes atender a miles de millones de personas y Esto hace que Ecuador pueda crecer de forma exponencial y es por eso que decimos fortalecer la pesca para que Ecuador pueda exportar más fortalecer a los productores para poder exportar más banano plátano café cacao pitahaya más al mundo y Asimismo crear un un ecoturismo que permita que más personas puedan venir a Ecuador y visitar Ecuador en ese momento tú creas un espacio para que el Ecuador ya no se enfoque solamente en atender a una población que es pequeña sino en atender al mundo y eso hace que puedas creer exponencialmente en el momento en el que tú creas que el turismo es una oportunidad para que vengan más personas creas carreteras seguras para poder llegar a esos lugares creas hoteles seguros que crean empleo en los sectores a los cuales quieres que lleguen mientras del otro lado empiezas a exportar y la industria crece en el momento en el que Ecuador brinde las garantías de seguridad en cuanto a seguridad física y de potencial crecimiento de empleo vas a tener las razones para estar en el país Ese es el foco sobre el cual queremos atender pero también esos focos son que se lo se lo viene escuchando no actual administración per el anterior sí de esto de abrir más más Ecuador el mundo pero ahí también se le consulta Cuáles son las el el contexto para fortalecer eso porque la parte agrícola por ejemplo ha avanzado el banano ha tenido un crecimiento interesante camarón ha caído un poco pero de ahí los otros sectores o sea mantienen un un crecimiento no exponencial pero sí constante O sea a lo mejor la exportación les consulto en qué momento Ya deja de ser un problema o un tema de interno y se convierte ya en algo de demanda de mer y demás o sea cómo se ese balance tú tienes representantes del Ecuador en las embajadas que van a negociar con los clientes finales buscando abrir mercado y cuando tú presentas el producto ecuatoriano Es indudable que la gente quiere más producto ecuatoriano No hay mejor banano que el ecuatoriano No hay mejor camarón que el ecuatoriano No hay mejor atún que el ecuatoriano Incluso el café el café ecuatoriano es espectacular y compite con cualquiera nos vamos al cacao en el momento el que tú creas mercado tú tienes que producir más y hoy tú tienes que garantizar que la tierra ecuatoriana se esté trabajando cómo lo garantizas Y es ahí cuando tenemos que traer inversionistas internacionales y cuando tenemos que conseguir créditos a menor costo y con eso el agro las personas que están trabajándolo pueden salir y potenciarlo no va a ser un solo exportador de banano van a ser más exportadores y creas justamente un espacio para que todos puedan participar ya es que recaería pero sería una de las funciones que tendría el cuerpo diplomático o sea las embajadas consad es el estado es el estado o sea al final de cuentas son representantes del Ecuador trabajan para para el Estado ecuatoriano sí Entonces en ese momento tú lo que haces es creas la oportunidad de que esas personas salgan a buscar hacer más negocios más contactos para que Ecuador tú tienes tres frutas de tres ferias de exportación de frutas a nivel mundial donde Ecuador tiene un poal de crecimiento cada vez más grande y ojo tienes a nivel mundial un déficit alimentario un déficit que si Ecuador lo logra atender Ecuador va a crecer de una forma impresionante o se pero ser cambiar también el foco de la O sea no cambiar el foco pero ampliar el foco de las misiones diplomáticas O sea me llama la atención porque es verdad son parte del Estado ecuatoriano Pero dentro de esas funciones no está la búsqueda de sí está tienes proecuador pero proecuador es parte Eso sí es conjunto entre el Ministerio entre el Comex y producción roquera y los organismos pero o sea s ellos son los que se encargan de esas relaciones ya existe no Claro pero es que pero o sea Proc cuador es una pero de ahí las embajadas es pero tú tienes que todos estos son agregados comerciales que trabajan para el gobierno ecuatoriano en esos países entonces claro lo que necesitas es que trabajen otra pregunta que me surge es que actualmente hay demasiada desconfianza en las autoridades eh políticas candidatos en una asamblea Qué ha hecho usted para que digamos el ecuatoriano pueda confiar en usted Claro que sí nombrar tres a ver yo empecé en el colegio y esto viene porque en el colegio nos llevaban a cada sector de Guayaquil en el primer año dar desayunos en el segundo año acompañar a niños en hospitales en el tercer año eh fuimos acompañar a niños con enfermedades especiales y así en cada año en sexto año fuimos a construir casas eh con viviendas jar de Cristo una fundación que ya tenía mucho tiempo trabajando en el Ecuador y puntualmente nos dieron la oportunidad de después de haber construido la casa en esa época en Valerio estacio de dormir allá en la entrada de la ocho y esto me permitió escuchar los problemas de las personas y acompañar a cada una de esas familias mientras construyamos la casa pero me gustó tanto esa actividad que del 2003 hasta el 2009 yo me quedé Armando casas c\n",
      "Metadatos: {'candidato': 'Wilson Gomez', 'descripcion': 'El documento es una entrevista en la que un candidato presidencial de Ecuador presenta su visión y propuestas para el país, abordando temas clave como la conformación de su binomio, su experiencia en el sector público y su plan de gobierno. Se enfatiza un enfoque de transformación dividido en dos fases: una inicial para rescatar al país y otra para transformarlo, priorizando seguridad, empleo, salud y educación. También se discute la estrategia en seguridad con el uso de tecnología y el fortalecimiento de instituciones judiciales y policiales. La crisis energética es otro tema central, con una propuesta de diversificación de la matriz energética. Se abordan la migración juvenil y el impulso a las exportaciones como motores de desarrollo económico. La entrevista destaca el compromiso del candidato con la transparencia en el financiamiento de su campaña y su estrategia para generar confianza en la ciudadanía a través de su trabajo social y voluntario. En general, se presenta un enfoque pragmático basado en la participación ciudadana y la eficiencia en la gestión gubernamental.', 'temas_tratados': 'Conformación del binomio presidencial; Relación con la vicepresidenta; Vínculo con Jan Topic; Plan de gobierno; Seguridad; Experiencia en el sector público; Conformación de equipos de trabajo; Crisis energética; Migración; Exportaciones; Confianza en el candidato; Financiamiento de la campaña; Estrategia de campaña;'}\n",
      "\n"
     ]
    }
   ],
   "source": [
    "# Realizar la consulta en la base de datos\n",
    "resultados = collection.query(query_embeddings=[embedding_query], n_results=3)  # Los 3 resultados más cercanos\n",
    "\n",
    "# Mostrar los resultados\n",
    "print(\"Resultados de la consulta:\")\n",
    "print()\n",
    "for i in range(len(resultados['documents'][0])):\n",
    "    print(f\"Resultado {i+1}\")\n",
    "    print(f\"ID: {resultados['ids'][0][i]}\")\n",
    "    print(f\"Contenido: {resultados['documents'][0][i]}\")\n",
    "    print(f\"Metadatos: {resultados['metadatas'][0][i]}\")\n",
    "    print(\"\")"
   ]
  },
  {
   "cell_type": "code",
   "execution_count": 55,
   "metadata": {},
   "outputs": [
    {
     "name": "stdout",
     "output_type": "stream",
     "text": [
      "dict_keys(['ids', 'embeddings', 'documents', 'uris', 'data', 'metadatas', 'distances', 'included'])\n"
     ]
    }
   ],
   "source": [
    "print(resultados.keys())"
   ]
  }
 ],
 "metadata": {
  "kernelspec": {
   "display_name": "Python 3",
   "language": "python",
   "name": "python3"
  },
  "language_info": {
   "codemirror_mode": {
    "name": "ipython",
    "version": 3
   },
   "file_extension": ".py",
   "mimetype": "text/x-python",
   "name": "python",
   "nbconvert_exporter": "python",
   "pygments_lexer": "ipython3",
   "version": "3.11.9"
  }
 },
 "nbformat": 4,
 "nbformat_minor": 2
}
