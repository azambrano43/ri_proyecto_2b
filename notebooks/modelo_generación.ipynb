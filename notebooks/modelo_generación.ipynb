{
 "cells": [
  {
   "cell_type": "code",
   "execution_count": 2,
   "metadata": {},
   "outputs": [],
   "source": [
    "import chromadb\n",
    "import string\n",
    "import ast\n",
    "import os\n",
    "\n",
    "from nltk.tokenize import word_tokenize\n",
    "from nltk.stem import SnowballStemmer\n",
    "from nltk.corpus import stopwords\n",
    "from sentence_transformers import SentenceTransformer\n",
    "from transformers import T5Tokenizer, T5ForConditionalGeneration\n",
    "\n",
    "import warnings\n",
    "warnings.filterwarnings(\"ignore\")"
   ]
  },
  {
   "cell_type": "markdown",
   "metadata": {},
   "source": [
    "### Funciones necesarias"
   ]
  },
  {
   "cell_type": "code",
   "execution_count": 3,
   "metadata": {},
   "outputs": [],
   "source": [
    "# Inicializar el stemmer en español\n",
    "stemmer = SnowballStemmer(\"spanish\")\n",
    "\n",
    "# Cargar stopwords en español\n",
    "stop_words = set(stopwords.words('spanish'))\n",
    "\n",
    "# Definir caracteres de puntuación adicionales en español\n",
    "puntuaciones = string.punctuation + \"¿¡\"\n",
    "\n",
    "# Función de preprocesamiento mejorada\n",
    "def preprocesar_texto(texto):\n",
    "    # Convertir a minúsculas\n",
    "    texto = texto.lower()\n",
    "\n",
    "    # Eliminar puntuaciones y números\n",
    "    texto = \"\".join([char for char in texto if char not in puntuaciones and not char.isdigit()])\n",
    "\n",
    "    # Tokenizar\n",
    "    tokens = word_tokenize(texto)\n",
    "\n",
    "    # Eliminar stopwords y aplicar stemming\n",
    "    tokens_procesados = [stemmer.stem(t) for t in tokens if t not in stop_words]\n",
    "\n",
    "    return \" \".join(tokens_procesados)"
   ]
  },
  {
   "cell_type": "code",
   "execution_count": 4,
   "metadata": {},
   "outputs": [],
   "source": [
    "# Función para buscar documentos en ChromaDB\n",
    "def buscar_documentos(embedding_query, top_k=3):\n",
    "    resultados = collection.query(query_embeddings=[embedding_query], n_results=top_k)\n",
    "    return resultados  # Retornamos todo el resultado, incluyendo los metadatos"
   ]
  },
  {
   "cell_type": "code",
   "execution_count": 5,
   "metadata": {},
   "outputs": [],
   "source": [
    "# Función para generar respuesta con T5\n",
    "def generar_respuesta_t5(query, documentos, metadatos):\n",
    "    # Crear el contexto con los documentos y metadatos\n",
    "    contexto = \" \".join(documentos)  # Unimos los documentos en un solo texto\n",
    "    metadata_texto = f\"Metadatos: {metadatos}\"  # Incluimos los metadatos relevantes\n",
    "    entrada = f\"Pregunta: {query} Contexto: {contexto} {metadata_texto}\"\n",
    "\n",
    "    inputs = tokenizer_t5(entrada, return_tensors=\"pt\", max_length=512, truncation=True)\n",
    "    output = modelo_t5.generate(**inputs, max_length=150)\n",
    "\n",
    "    return tokenizer_t5.decode(output[0], skip_special_tokens=True)"
   ]
  },
  {
   "cell_type": "markdown",
   "metadata": {},
   "source": [
    "### Implementación de modelo de lenguaje T5"
   ]
  },
  {
   "cell_type": "code",
   "execution_count": 6,
   "metadata": {},
   "outputs": [
    {
     "name": "stderr",
     "output_type": "stream",
     "text": [
      "You are using the default legacy behaviour of the <class 'transformers.models.t5.tokenization_t5.T5Tokenizer'>. This is expected, and simply means that the `legacy` (previous) behavior will be used so nothing changes for you. If you want to use the new behaviour, set `legacy=False`. This should only be set if you understand what it means, and thoroughly read the reason why this was added as explained in https://github.com/huggingface/transformers/pull/24565\n"
     ]
    }
   ],
   "source": [
    "# Conectar a la base de datos vectorial\n",
    "chroma_client = chromadb.PersistentClient(path=\"../db/\")\n",
    "collection = chroma_client.get_or_create_collection(\"entrevistas\")\n",
    "\n",
    "# Cargar el modelo T5\n",
    "modelo_t5 = T5ForConditionalGeneration.from_pretrained(\"google/flan-t5-large\")\n",
    "tokenizer_t5 = T5Tokenizer.from_pretrained(\"google/flan-t5-large\")\n",
    "\n",
    "# Modelo con el que vamos a generar embeddings\n",
    "modelo = SentenceTransformer(\"all-MiniLM-L6-v2\")"
   ]
  },
  {
   "cell_type": "code",
   "execution_count": 7,
   "metadata": {},
   "outputs": [],
   "source": [
    "# Ejemplo de consulta\n",
    "consulta_usuario = \"¿Qué candidato presidencial habla mucho más sobre reducir la delincuencia?\"\n",
    "preproc_query_t5 = preprocesar_texto(consulta_usuario)\n",
    "t5_query = modelo.encode(preproc_query_t5)\n",
    "\n",
    "# Buscar documentos y metadatos en ChromaDB\n",
    "resultados = buscar_documentos(t5_query)\n",
    "\n",
    "# Obtener los documentos y metadatos\n",
    "documentos_recuperados = resultados['documents'][0]  # Documentos relevantes\n",
    "metadatos = resultados['metadatas'][0]  # Metadatos asociados"
   ]
  },
  {
   "cell_type": "code",
   "execution_count": 8,
   "metadata": {},
   "outputs": [
    {
     "name": "stdout",
     "output_type": "stream",
     "text": [
      "Respuesta generada: Pedro granja\n"
     ]
    }
   ],
   "source": [
    "# Generar respuesta con T5\n",
    "respuesta_t5 = generar_respuesta_t5(consulta_usuario, documentos_recuperados, metadatos)\n",
    "\n",
    "print(\"Respuesta generada:\", respuesta_t5)"
   ]
  }
 ],
 "metadata": {
  "kernelspec": {
   "display_name": "Python 3",
   "language": "python",
   "name": "python3"
  },
  "language_info": {
   "codemirror_mode": {
    "name": "ipython",
    "version": 3
   },
   "file_extension": ".py",
   "mimetype": "text/x-python",
   "name": "python",
   "nbconvert_exporter": "python",
   "pygments_lexer": "ipython3",
   "version": "3.11.9"
  }
 },
 "nbformat": 4,
 "nbformat_minor": 2
}
